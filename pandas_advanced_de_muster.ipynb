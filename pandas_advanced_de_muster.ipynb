{
 "cells": [
  {
   "cell_type": "markdown",
   "metadata": {},
   "source": [
    "# Daten untersuchen mit Pandas und Python für Fortgeschrittene"
   ]
  },
  {
   "cell_type": "markdown",
   "metadata": {},
   "source": [
    "### Daten aus der CSV-Datei lesen\n",
    "\n",
    "Nun benutzen wir pandas um die [CSV-Datei](https://de.wikipedia.org/wiki/CSV_(Dateiformat)) einzulesen. Damit das funktioniert muss vorher noch das pandas-Paket mit dem `import`-Befehl unter dem Namen `pd` verfügbar gemacht werden.\n",
    "\n",
    "Dabei wird ein sogenannter [DataFrame](https://pandas.pydata.org/docs/reference/api/pandas.DataFrame.html) mit dem Namen `nba` erzeugt. Vereinfacht kann man sich darunter eine Tabelle mit Spalten und Zeilen vorstellen. DataFrames sind **die** zentralen Datentypen in pandas.   \n",
    "\n",
    "Mit dem Befehl `type()` kann der Datentyp eines jeden Python-Objekts ausgegeben werden. "
   ]
  },
  {
   "cell_type": "code",
   "execution_count": null,
   "metadata": {},
   "outputs": [],
   "source": [
    "import pandas as pd\n",
    "nba = pd.read_csv(\"nba_all_elo.csv\")\n",
    "type(nba)\n",
    "# Expected:\n",
    "# <class 'pandas.core.frame.DataFrame'>"
   ]
  },
  {
   "cell_type": "code",
   "execution_count": null,
   "metadata": {},
   "outputs": [],
   "source": [
    "nba.head()"
   ]
  },
  {
   "cell_type": "markdown",
   "metadata": {},
   "source": [
    "# Aufgabe: Bulls vs. Pistons\n",
    "\n",
    "![Bulls](https://upload.wikimedia.org/wikipedia/en/thumb/6/67/Chicago_Bulls_logo.svg/238px-Chicago_Bulls_logo.svg.png) vs ![Pistons](https://upload.wikimedia.org/wikipedia/commons/thumb/7/7c/Pistons_logo17.svg/240px-Pistons_logo17.svg.png)\n",
    "\n",
    "Im Zeitraum zwischen 1988 und 1991 herrschte ein große Rivalität zwischen den beiden Clubs.\n",
    "\n",
    "1. Erzeugen Sie einen neuen DataFrame für die folgenden Aufgaben, der nur die benötigten Daten enthält. Ggf. können Sie gerne noch weitere spezialisierte DataFrames anlegen.\n",
    "2. Wie ist die Bilanz der beiden Teams (Siege und Niederlagen in direkten Duellen) für beide Teams im gesamten Zeitraum?\n",
    "3. Wie viele Siege erzielten die Bulls in den einzelnen Jahren 88-91?\n",
    "4. Welches war der höchste Sieg der Bulls im Jahr 1991?\n",
    "5. Wie viele Punkte pro Jahr erzielten die Bulls im Schnitt in dem genannten Zeitraum. Ermitteln Sie dasselbe für die Pistons. Visualisieren Sie.\n",
    "6. Visualisieren Sie die Punktedifferenz in den Ergebnissen für alle direkten Duelle mit einem geeigneten Diagramm.\n",
    "7. Welche Mannschaft hat hat die schlechteste Auswärtsbilanz im Zeitraum? Berechnen Sie den Wert basierend auf Siegen und anschließend basierend auf Punkten. Gezählt werden sollen nur Spiele die nicht in den Playoffs stattfinden. \n"
   ]
  },
  {
   "cell_type": "markdown",
   "metadata": {},
   "source": [
    "## Lösung:"
   ]
  },
  {
   "cell_type": "markdown",
   "metadata": {},
   "source": [
    "### Teilaufgabe 1\n",
    "\n",
    "Erzeugen Sie einen neuen DataFrame für die folgenden Aufgaben, der nur die benötigten Daten enthält. Ggf. können Sie gerne noch weitere spezialisierte DataFrames anlegen."
   ]
  },
  {
   "cell_type": "code",
   "execution_count": null,
   "metadata": {},
   "outputs": [],
   "source": [
    "bullspistons = nba[\n",
    "    ((nba[\"fran_id\"] == \"Bulls\") & (nba[\"opp_fran\"] == \"Pistons\") | # Heimspiel \"oder\" (Operator: |)\n",
    "    (nba[\"fran_id\"] == \"Pistons\") & (nba[\"opp_fran\"] == \"Bulls\")) & # Auswärtsspiel\n",
    "    (nba[\"year_id\"] <= 1991) & # Datum bis\n",
    "    (nba[\"year_id\"] >= 1988) # Datum von\n",
    "    ]"
   ]
  },
  {
   "cell_type": "markdown",
   "metadata": {},
   "source": [
    "Das Ergebnis enthält hier zwei Zeilen pro Spiel, einen aus Bulls, einen aus Pistons Perspektive (sieht man sehr gut an der `game_id`)."
   ]
  },
  {
   "cell_type": "code",
   "execution_count": null,
   "metadata": {},
   "outputs": [],
   "source": [
    "bullspistons.head()"
   ]
  },
  {
   "cell_type": "markdown",
   "metadata": {},
   "source": [
    "### Teilaufgabe 2\n",
    "\n",
    "Wie ist die Bilanz der beiden Teams (Siege und Niederlagen in direkten Duellen) für beide Teams im gesamten Zeitraum?"
   ]
  },
  {
   "cell_type": "code",
   "execution_count": null,
   "metadata": {},
   "outputs": [],
   "source": [
    "bullspistons.groupby([\"fran_id\", \"game_result\"])[\"game_id\"].count()"
   ]
  },
  {
   "cell_type": "markdown",
   "metadata": {},
   "source": [
    "### Teilaufgabe 3\n",
    "\n",
    "Wie viele Siege erzielten die Bulls in den einzelnen Jahren 88-91?"
   ]
  },
  {
   "cell_type": "code",
   "execution_count": null,
   "metadata": {},
   "outputs": [],
   "source": [
    "bullspistons[((bullspistons[\"fran_id\"] == \"Bulls\") & (bullspistons[\"game_result\"] == \"W\")) \n",
    "].groupby([\"fran_id\", \"year_id\"])[\"game_id\"].count()"
   ]
  },
  {
   "cell_type": "markdown",
   "metadata": {},
   "source": [
    "### Teilaufgabe 4\n",
    "\n",
    "Welches war der höchste Sieg der Bulls im Jahr 1991?"
   ]
  },
  {
   "cell_type": "markdown",
   "metadata": {},
   "source": [
    "Was heißt der höchste Sieg? a) Absolut oder b) relativ im Vergleich zum Verlierer? \n",
    "Wenn b) muss dieser Wert erst einmal entwickelt werden."
   ]
  },
  {
   "cell_type": "code",
   "execution_count": null,
   "metadata": {},
   "outputs": [],
   "source": [
    "bullspistons[\"pts_diff\"] = bullspistons[\"pts\"]-bullspistons[\"opp_pts\"]"
   ]
  },
  {
   "cell_type": "code",
   "execution_count": null,
   "metadata": {},
   "outputs": [],
   "source": [
    "bullspistons.head()"
   ]
  },
  {
   "cell_type": "markdown",
   "metadata": {},
   "source": [
    "Gewonnenes Spiel mit der größten Differenz:"
   ]
  },
  {
   "cell_type": "code",
   "execution_count": null,
   "metadata": {},
   "outputs": [],
   "source": [
    "bullspistons[((bullspistons[\"fran_id\"] == \"Bulls\") & (bullspistons[\"game_result\"] == \"W\")) \n",
    "].pts_diff.max()"
   ]
  },
  {
   "cell_type": "markdown",
   "metadata": {},
   "source": [
    "Zeilenindex dieses Spiels:"
   ]
  },
  {
   "cell_type": "code",
   "execution_count": null,
   "metadata": {},
   "outputs": [],
   "source": [
    "bullspistons[((bullspistons[\"fran_id\"] == \"Bulls\") & (bullspistons[\"game_result\"] == \"W\")) \n",
    "].pts_diff.idxmax()"
   ]
  },
  {
   "cell_type": "markdown",
   "metadata": {},
   "source": [
    "Zugriff auf die ganze Zeile mit `loc()`"
   ]
  },
  {
   "cell_type": "code",
   "execution_count": null,
   "metadata": {},
   "outputs": [],
   "source": [
    "bullspistons.loc[bullspistons[((bullspistons[\"fran_id\"] == \"Bulls\") & (bullspistons[\"game_result\"] == \"W\")) \n",
    "].pts_diff.idxmax()]"
   ]
  },
  {
   "cell_type": "markdown",
   "metadata": {},
   "source": [
    "für Alternative a) ist das Vorgehen deutlich einfacher. Größte Punktanzahl bei gewonnen Spielen:"
   ]
  },
  {
   "cell_type": "code",
   "execution_count": null,
   "metadata": {},
   "outputs": [],
   "source": [
    "bullspistons[((bullspistons[\"fran_id\"] == \"Bulls\") & (bullspistons[\"game_result\"] == \"W\")) \n",
    "].pts.max()"
   ]
  },
  {
   "cell_type": "markdown",
   "metadata": {},
   "source": [
    "Index dieser Zeile:"
   ]
  },
  {
   "cell_type": "code",
   "execution_count": null,
   "metadata": {},
   "outputs": [],
   "source": [
    "bullspistons[((bullspistons[\"fran_id\"] == \"Bulls\") & (bullspistons[\"game_result\"] == \"W\")) \n",
    "].pts.idxmax()"
   ]
  },
  {
   "cell_type": "markdown",
   "metadata": {},
   "source": [
    "Ganze Zeile mit dem höchsten absoluten Gewinn per `loc()`"
   ]
  },
  {
   "cell_type": "code",
   "execution_count": null,
   "metadata": {},
   "outputs": [],
   "source": [
    "bullspistons.loc[bullspistons[((bullspistons[\"fran_id\"] == \"Bulls\") & (bullspistons[\"game_result\"] == \"W\")) \n",
    "].pts.idxmax()]"
   ]
  },
  {
   "cell_type": "markdown",
   "metadata": {},
   "source": [
    "### Teilaufgabe 5\n",
    "\n",
    "Wie viele Punkte pro Jahr erzielten die Bulls im Schnitt in dem genannten Zeitraum. Ermitteln Sie dasselbe für die Pistons. Visualisieren Sie."
   ]
  },
  {
   "cell_type": "code",
   "execution_count": null,
   "metadata": {},
   "outputs": [],
   "source": [
    "bullspistons[((bullspistons[\"fran_id\"] == \"Bulls\")) \n",
    "].groupby([\"year_id\"])[\"pts\"].mean()"
   ]
  },
  {
   "cell_type": "code",
   "execution_count": null,
   "metadata": {},
   "outputs": [],
   "source": [
    "bullspistons[((bullspistons[\"fran_id\"] == \"Bulls\")) \n",
    "].groupby([\"year_id\"])[\"pts\"].mean().plot()"
   ]
  },
  {
   "cell_type": "code",
   "execution_count": null,
   "metadata": {},
   "outputs": [],
   "source": [
    "bullspistons[((bullspistons[\"fran_id\"] == \"Pistons\")) \n",
    "].groupby([\"year_id\"])[\"pts\"].mean()"
   ]
  },
  {
   "cell_type": "code",
   "execution_count": null,
   "metadata": {},
   "outputs": [],
   "source": [
    "bullspistons[((bullspistons[\"fran_id\"] == \"Pistons\")) \n",
    "].groupby([\"year_id\"])[\"pts\"].mean().plot()"
   ]
  },
  {
   "cell_type": "markdown",
   "metadata": {},
   "source": [
    "### Teilaufgabe 6\n",
    "\n",
    "Visualisieren Sie die Punktedifferenz in den Ergebnissen für alle direkten Duelle mit einem geeigneten Diagramm."
   ]
  },
  {
   "cell_type": "code",
   "execution_count": null,
   "metadata": {},
   "outputs": [],
   "source": [
    "bullspistons[((bullspistons[\"fran_id\"] == \"Bulls\")) \n",
    "].pts_diff.plot(kind=\"bar\",figsize=(20, 4))"
   ]
  },
  {
   "cell_type": "markdown",
   "metadata": {},
   "source": [
    "### Teilaufgabe 7\n",
    "\n",
    "Welche Mannschaft hat hat die schlechteste Auswärtsbilanz im Zeitraum? Berechnen Sie den Wert basierend auf Siegen und anschließend basierend auf Punkten. Gezählt werden sollen nur Spiele die nicht in den Playoffs stattfinden. "
   ]
  },
  {
   "cell_type": "code",
   "execution_count": null,
   "metadata": {},
   "outputs": [],
   "source": [
    "bullspistons[\n",
    "    (bullspistons[\"game_location\"] == \"A\") & \n",
    "    (bullspistons[\"game_result\"] == \"W\") &\n",
    "    (bullspistons[\"is_playoffs\"] == 0)\n",
    "].groupby([\"fran_id\"])[\"game_id\"].count()"
   ]
  },
  {
   "cell_type": "code",
   "execution_count": null,
   "metadata": {},
   "outputs": [],
   "source": [
    "bullspistons[\n",
    "    (bullspistons[\"game_location\"] == \"A\") &\n",
    "    (bullspistons[\"is_playoffs\"] == 0)\n",
    "].groupby([\"fran_id\"])[\"pts\"].sum()"
   ]
  }
 ],
 "metadata": {
  "kernelspec": {
   "display_name": "Python 3",
   "language": "python",
   "name": "python3"
  },
  "language": "python",
  "language_info": {
   "codemirror_mode": {
    "name": "ipython",
    "version": 3
   },
   "file_extension": ".py",
   "mimetype": "text/x-python",
   "name": "python",
   "nbconvert_exporter": "python",
   "pygments_lexer": "ipython3",
   "version": "3.7.11"
  }
 },
 "nbformat": 4,
 "nbformat_minor": 4
}
