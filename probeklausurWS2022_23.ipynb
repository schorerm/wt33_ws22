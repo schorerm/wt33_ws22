{
 "cells": [
  {
   "attachments": {},
   "cell_type": "markdown",
   "metadata": {},
   "source": [
    "# Probeklausur WT33 Wissenschaftliches Arbeiten und Statistische Datenanalyse\n",
    "\n",
    "### 50 Punkte\n",
    "\n",
    "### Regeln\n",
    "- Alle Hilfsmittel sind erlaubt\n",
    "- Eine Kommunikation der Prüfungsteilnehmer untereinander ist während der Prüfung nicht erlaubt \n",
    "- Der Bearbeitungszeitraum muss selbständig eingehalten werden. Die Zeit startet sobald alle einführenden Hinweise gegeben wurden.\n",
    "\n",
    "- Diese Regeln müssen von den Prüfungsteilnehmern eingehalten werden und werden durch die Teilnahme an der Prüfung automatisch bestätigt.\n"
   ]
  },
  {
   "cell_type": "markdown",
   "metadata": {},
   "source": [
    "Name:"
   ]
  },
  {
   "cell_type": "markdown",
   "metadata": {},
   "source": [
    "Matrikelnummer:"
   ]
  },
  {
   "cell_type": "markdown",
   "metadata": {},
   "source": [
    "## Hinweise\n",
    "\n",
    "### Während der Bearbeitung:\n",
    "- Lesen Sie die Angaben vollständig.\n",
    "- Geben Sie für alle notwendigen Lösungsschritte den geeigneten Python Code an. \n",
    "- Verwenden Sie beliebig viele Zwischenschritte oder Teillösungen.\n",
    "- Erzeugen Sie so viele Zellen im Notebook, wie Sie benötigen. Es gibt keine Obergrenze.\n",
    "\n",
    "\n",
    "\n",
    "\n",
    "\n",
    "### Bei Problemen:\n",
    "\n",
    "- Ihr Code ist nicht lauffähig bzw. Fehler lassen sich nicht beheben.\n",
    "    - Lösung: Lassen Sie den nicht-lauffähigen Code im Notebook und versuchen Sie Ihren Gedankengang zu Lösung des Problems schriftlich darzulegen. Benutzen Sie dazu entweder Kommentare (Code-Zeile beginnt mit #) oder eine zusätzliche Markdown-Zelle.\n",
    "\n",
    "\n",
    "- Eine Zelle lässt sich nicht ausführen:\n",
    "\n",
    "    - Kein Kernel ausgewählt\n",
    "        - Lösung: Python Kernel auswählen \n",
    "\n",
    "        ![Fehlermeldung](img/binder_error_kernel1.png)\n",
    "        \n",
    "        ![Fehlermeldung](img/binder_error_kernel2.png)\n",
    "    - Falscher Zelltyp gewählt\n",
    "        - Lösung: Den richtigen Zelltyp in der Menuleiste auswählen. Zellen mit Python-Code haben zwei rechteckige Klammern an der linken Seite: []\n",
    "\n",
    "        ![Fehlermeldung](img/binder_celltype1.png)\n",
    "        \n",
    "        ![Fehlermeldung](img/binder_celltype2.png)\n",
    "\n",
    "\n",
    "- Binder Session endet/Verbindung bricht ab (z.B. nach 10 Minuten ohne Aktivität)\n",
    "\n",
    "    Lösung:\n",
    "    1. Browser *NICHT* schließen.\n",
    "\n",
    "    2. Bestätigen Sie ggf. die Fehlermeldung mit \"Dismiss\"\n",
    "\n",
    "    ![Fehlermeldung](img/binder_error.png)\n",
    "    \n",
    "    3. Speichern Sie den ihr Notebook im Browser Speicher:\n",
    "\n",
    "    ![Fehlermeldung](img/binder_error2.png)\n",
    "\n",
    "    ![Fehlermeldung](img/binder_error3.png)\n",
    "\n",
    "    4. Öffnen Sie einen neuen Tab\n",
    "\n",
    "    5. Stellen Sie die Verbindung zum Notebook erneut her, indem Sie den Link aus Moodle zur Prüfung aufrufen bzw. in die Adresszeile des neuen Tabs einfügen.\n",
    "\n",
    "    6. Stellen Sie das ursprüngliche Notebook aus dem Browserspeicher wieder her:\n",
    "\n",
    "    ![Fehlermeldung](img/binder_error5.png)\n",
    "\n",
    "    ![Fehlermeldung](img/binder_error6.png)\n",
    "\n",
    "\n",
    "\n",
    "\n",
    "### Nach Ablauf der Bearbeitungszeit:\n",
    "- Laden Sie das Notebook mit dem Download-Button auf Ihre lokale Festplatte herunter.\n",
    "\n",
    "![Download](img/binder_Download.png)\n",
    "\n",
    "- Benennen Sie die Datei wie folgt: NACHNAME_MATRIKELNUMMER_WT33_PK_WS21.ipynb\n",
    "\n",
    "- Geben Sie das Notebook ab indem Sie die Datei (bzw. ggf. auch mehrere Dateien) in der Aufgabe in Moodle hochladen."
   ]
  },
  {
   "cell_type": "markdown",
   "metadata": {},
   "source": [
    "## Aufgaben\n",
    "\n",
    "***Ab hier geht es los - Viel Erfolg!***"
   ]
  },
  {
   "cell_type": "markdown",
   "metadata": {},
   "source": [
    "### Aufgabe 0 \n",
    "\n",
    "[0 Punkte] Vorbereitung"
   ]
  },
  {
   "cell_type": "code",
   "execution_count": null,
   "metadata": {},
   "outputs": [],
   "source": [
    "import pandas as pd\n",
    "import matplotlib.pyplot as plt\n",
    "nba = pd.read_csv(\"nba_all_elo.csv\")\n",
    "pd.set_option(\"display.max.columns\", None)"
   ]
  },
  {
   "cell_type": "markdown",
   "metadata": {},
   "source": [
    "### Aufgabe 1 \n",
    "\n",
    "[2 Punkte] Geben Sie die ersten 15 Zeilen des DataFrames aus.  \n"
   ]
  },
  {
   "cell_type": "code",
   "execution_count": null,
   "metadata": {},
   "outputs": [],
   "source": [
    "#Antwort:\n"
   ]
  },
  {
   "cell_type": "markdown",
   "metadata": {},
   "source": [
    "### Aufgabe 2\n",
    "\n",
    "[8 Punkte] Erzeugen Sie einen Dataframe mit der Bezeichnung `celtics_playoffs`, der nur die Playoff-Spiele der Boston Celtics (`team_id` BOS) enthält. Hinweis: Benutzen Sie dazu das Flag in Spalte `is_playoffs`.\n",
    "\n",
    "Geben Sie außerdem einen Auszug des Dataframes aus (z.B. die ersten 10 Zeilen des DataFrames) "
   ]
  },
  {
   "cell_type": "code",
   "execution_count": null,
   "metadata": {},
   "outputs": [],
   "source": [
    "#Antwort:\n"
   ]
  },
  {
   "cell_type": "markdown",
   "metadata": {},
   "source": [
    "**Hinweis**\n",
    "Sollten sie Aufgabe 2 nicht gelöst haben so führen Sie bitte folgendes Statment aus, um mit dem korrekten DataFrame weiterzuarbeiten."
   ]
  },
  {
   "cell_type": "code",
   "execution_count": null,
   "metadata": {},
   "outputs": [],
   "source": [
    "celtics_playoffs = pd.read_csv(\"celtics.csv\")"
   ]
  },
  {
   "cell_type": "markdown",
   "metadata": {},
   "source": [
    "### Aufgabe 3\n",
    "\n",
    "[3 Punkte] Wie viele Spiele haben die Celtics insgesamt in den Playoffs absolviert?"
   ]
  },
  {
   "cell_type": "code",
   "execution_count": null,
   "metadata": {},
   "outputs": [],
   "source": [
    "#Antwort:\n"
   ]
  },
  {
   "cell_type": "markdown",
   "metadata": {},
   "source": [
    "### Aufgabe 4\n",
    "\n",
    "[4 Punkte] Wie viele Spiele haben die Celtics insgesamt in den Playoffs **gewonnen**?"
   ]
  },
  {
   "cell_type": "code",
   "execution_count": null,
   "metadata": {},
   "outputs": [],
   "source": [
    "#Antwort:\n"
   ]
  },
  {
   "cell_type": "markdown",
   "metadata": {},
   "source": [
    "### Aufgabe 5\n",
    "\n",
    "[3 Punkte] Erzeugen Sie einen Boxplot, der die Häufigkeitsverteilung der erzielten Punkte der Celtics in diesen Spielen darstellt."
   ]
  },
  {
   "cell_type": "code",
   "execution_count": null,
   "metadata": {},
   "outputs": [],
   "source": [
    "#Antwort:\n"
   ]
  },
  {
   "cell_type": "markdown",
   "metadata": {},
   "source": [
    "### Aufgabe 6\n",
    "\n",
    "[6 Punkte] Welche Bedeutung hat der horizontale Strich in der Mitte der Box? Wie wird dieser Lageparameter genannt?\n",
    "\n",
    "Welche Bedeutung haben die beiden Punkte am oberen Ende der Darstellung? Warum werden sie so dargestellt?\n",
    "\n",
    "![Fehlermeldung](img/boxplot.png)"
   ]
  },
  {
   "cell_type": "markdown",
   "metadata": {},
   "source": [
    "Antwort:\n"
   ]
  },
  {
   "cell_type": "markdown",
   "metadata": {},
   "source": [
    "### Aufgabe 7\n",
    "\n",
    "[2 Punkte] Geben Sie den genauen Wert des Lageparameters aus Aufgabe 5 aus."
   ]
  },
  {
   "cell_type": "code",
   "execution_count": null,
   "metadata": {},
   "outputs": [],
   "source": [
    "#Antwort:\n"
   ]
  },
  {
   "cell_type": "markdown",
   "metadata": {},
   "source": [
    "### Aufgabe 8\n",
    "\n",
    "[6 Punkte] Gegeben sind die beiden u.g. Code-Fragmente. Was wird hier jeweils berechnet?"
   ]
  },
  {
   "cell_type": "code",
   "execution_count": null,
   "metadata": {},
   "outputs": [],
   "source": [
    "celtics_playoffs[celtics_playoffs[\"game_result\"] == \"W\"].pts.mean()"
   ]
  },
  {
   "cell_type": "code",
   "execution_count": null,
   "metadata": {},
   "outputs": [],
   "source": [
    "celtics_playoffs[celtics_playoffs[\"game_result\"] == \"L\"].pts.mean()"
   ]
  },
  {
   "cell_type": "markdown",
   "metadata": {},
   "source": [
    "Antwort: "
   ]
  },
  {
   "cell_type": "markdown",
   "metadata": {},
   "source": [
    "### Aufgabe 9\n",
    "\n",
    "[6 Punkte] Geben Sie ein Statement an, dass die beiden Berechnungen aus Aufgabe 7 vereint und zwei Zeilen auf einmal ausgibt. \n",
    "\n",
    "Hinweis: Die Berechnung wird nun nicht mehr für explizit festgelegt Werte der Spalte `game_result` durchgeführt sondern für jeden gefundenen Wert gruppenweise erledigt.  "
   ]
  },
  {
   "cell_type": "code",
   "execution_count": null,
   "metadata": {},
   "outputs": [],
   "source": [
    "#Antwort:\n"
   ]
  },
  {
   "cell_type": "markdown",
   "metadata": {},
   "source": [
    "### Aufgabe 10\n",
    "\n",
    "[3 Punkte] Um die Verteilung der der Gegner in den verlorenen Spielen der Celtics zu analysieren wird Ihnen folgendes Statement vorgelegt. Wieso schlägt das Statement fehl?  "
   ]
  },
  {
   "cell_type": "code",
   "execution_count": null,
   "metadata": {},
   "outputs": [],
   "source": [
    "celtics_playoffs[celtics_playoffs[\"game_result\"] == \"L\"].opp_id.mean()"
   ]
  },
  {
   "cell_type": "markdown",
   "metadata": {},
   "source": [
    "Antwort: \n"
   ]
  },
  {
   "cell_type": "markdown",
   "metadata": {},
   "source": [
    "### Aufgabe 11\n",
    "\n",
    "[4 Punkte] Wie können Sie die Häufigkeitsverteilung der Gegner in den verlorenen Playoffspielen auf einfache Weise veranschaulichen? Geben Sie das passende Statement an.\n",
    "  "
   ]
  },
  {
   "cell_type": "code",
   "execution_count": null,
   "metadata": {},
   "outputs": [],
   "source": [
    "#Antwort:\n"
   ]
  },
  {
   "cell_type": "markdown",
   "metadata": {},
   "source": [
    "### Aufgabe 12\n",
    "\n",
    "[3 Punkte] Ein ähnliches Statement wie in Aufgabe 9 sehen Sie nachfolgend. Es ist zwar lauffähig, jedoch statistisch ohne Aussagekraft. Warum?\n",
    "  "
   ]
  },
  {
   "cell_type": "code",
   "execution_count": null,
   "metadata": {},
   "outputs": [],
   "source": [
    "celtics_playoffs[celtics_playoffs[\"game_result\"] == \"L\"].gameorder.mean()"
   ]
  },
  {
   "cell_type": "markdown",
   "metadata": {},
   "source": [
    "Antwort:\n"
   ]
  }
 ],
 "metadata": {
  "kernelspec": {
   "display_name": "Python 3",
   "language": "python",
   "name": "python3"
  },
  "language": "python",
  "language_info": {
   "codemirror_mode": {
    "name": "ipython",
    "version": 3
   },
   "file_extension": ".py",
   "mimetype": "text/x-python",
   "name": "python",
   "nbconvert_exporter": "python",
   "pygments_lexer": "ipython3",
   "version": "3.7.11"
  }
 },
 "nbformat": 4,
 "nbformat_minor": 4
}
