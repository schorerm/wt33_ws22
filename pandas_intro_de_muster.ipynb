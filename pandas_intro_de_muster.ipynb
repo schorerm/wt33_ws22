{
 "cells": [
  {
   "cell_type": "markdown",
   "metadata": {},
   "source": [
    "# Daten untersuchen mit Pandas und Python \n",
    "\n",
    "## Vorbereitungen\n",
    "\n",
    "### auf binder\n",
    "Alle notwendigen Pakete werden von binder durch die Liste in `./environment.yml` automatisch geladen. Nichts weiter zu tun!\n",
    "\n",
    "\n",
    "### für lokale Installationen\n",
    "Mit pip package manager:\n",
    "`$ python3 -m pip install requests pandas matplotlib`\n",
    "\n",
    "Mit conda package manager:\n",
    "`$ conda install requests pandas matplotlib`"
   ]
  },
  {
   "cell_type": "markdown",
   "metadata": {},
   "source": [
    "## Hallo Pandas!\n",
    "\n",
    "![Pandas](https://upload.wikimedia.org/wikipedia/commons/thumb/0/0f/Grosser_Panda.JPG/320px-Grosser_Panda.JPG)\n",
    "\n",
    "### Daten holen\n",
    "#### a) Daten holen bei binder-Ausführung\n",
    "In der Datei `./postBuild` wird automatisch von binder mit dem Tool wget die Datei aus dem GitHub Repository in die binder Ausführungsumgebung geholt. Alles erledigt.\n",
    "\n",
    "Inhalt von `./postBuild`:\n",
    "```console \n",
    "wget -q -O nba_all_elo.csv \"https://raw.githubusercontent.com/fivethirtyeight/data/master/nba-elo/nbaallelo.csv\"\n",
    "```"
   ]
  },
  {
   "cell_type": "markdown",
   "metadata": {},
   "source": [
    "#### b) Daten holen bei lokaler Ausführung\n",
    "Mit dem Requests-Paket können wir mit Webservern über HTTP kommunizieren.\n",
    "Lassen Sie uns die Datei herunterladen und in das aktuelle Arbeitsverzeichnis speichern."
   ]
  },
  {
   "cell_type": "code",
   "execution_count": null,
   "metadata": {},
   "outputs": [],
   "source": [
    "import requests\n",
    "\n",
    "download_url = \"https://raw.githubusercontent.com/fivethirtyeight/data/master/nba-elo/nbaallelo.csv\"\n",
    "target_csv_path = \"nba_all_elo.csv\"\n",
    "\n",
    "response = requests.get(download_url)\n",
    "response.raise_for_status()\n",
    "with open(target_csv_path, \"wb\") as f:\n",
    "    f.write(response.content)\n",
    "print(\"Download ready.\")"
   ]
  },
  {
   "cell_type": "markdown",
   "metadata": {},
   "source": [
    "### Daten aus der CSV-Datei lesen\n",
    "\n",
    "Nun benutzen wir pandas um die [CSV-Datei](https://de.wikipedia.org/wiki/CSV_(Dateiformat)) einzulesen. Damit das funktioniert muss vorher noch das pandas-Paket mit dem `import`-Befehl unter dem Namen `pd` verfügbar gemacht werden.\n",
    "\n",
    "Dabei wird ein sogenannter [DataFrame](https://pandas.pydata.org/docs/reference/api/pandas.DataFrame.html) mit dem Namen `nba` erzeugt. Vereinfacht kann man sich darunter eine Tabelle mit Spalten und Zeilen vorstellen. DataFrames sind **die** zentralen Datentypen in pandas.   \n",
    "\n",
    "Mit dem Befehl `type()` kann der Datentyp eines jeden Python-Objekts ausgegeben werden. "
   ]
  },
  {
   "cell_type": "code",
   "execution_count": null,
   "metadata": {},
   "outputs": [],
   "source": [
    "import pandas as pd\n",
    "nba = pd.read_csv(\"nba_all_elo.csv\")\n",
    "type(nba)\n",
    "# Expected:\n",
    "# <class 'pandas.core.frame.DataFrame'>"
   ]
  },
  {
   "cell_type": "markdown",
   "metadata": {},
   "source": [
    "### DataFrame untersuchen\n",
    "\n",
    "Die Funktion `len()` aus dem Python Standard gibt bei pandas DataFrames wie erwartet die Anzahl der Zeilen aus."
   ]
  },
  {
   "cell_type": "code",
   "execution_count": null,
   "metadata": {},
   "outputs": [],
   "source": [
    "len(nba)\n",
    "# Expected:\n",
    "# 126314"
   ]
  },
  {
   "cell_type": "markdown",
   "metadata": {},
   "source": [
    "Die (pandas-)Funktion* (`shape()`) gibt die \"Form\" das Frames aus, also die Zeilen- und Spaltenanzahl. \n",
    "\n",
    "*: Es ist eigentlich eine Funktion des des numpy-Pakets. Da pandas aber zu weiten Teilen auf numpy basiert, gibt es diese Unschärfe an vielen Stellen. Wenn Funktionen explizit in pandas verfügbar sind, ist hier auf die pandas API verwiesen ([vgl. pandas Dokumentation zu shape()](https://pandas.pydata.org/docs/reference/api/pandas.DataFrame.shape.html?highlight=shape#pandas.DataFrame.shape))."
   ]
  },
  {
   "cell_type": "code",
   "execution_count": null,
   "metadata": {},
   "outputs": [],
   "source": [
    "nba.shape\n",
    "# Expected:\n",
    "# (126314, 23)"
   ]
  },
  {
   "cell_type": "markdown",
   "metadata": {},
   "source": [
    "Einen schnellen Blick in den DataFrame erhält man mit `head()`. Wird kein Parameter übergeben, so werden fünf Zeilen (und die Spaltenüberschriften) ausgegeben."
   ]
  },
  {
   "cell_type": "code",
   "execution_count": null,
   "metadata": {},
   "outputs": [],
   "source": [
    "nba.head()"
   ]
  },
  {
   "cell_type": "markdown",
   "metadata": {},
   "source": [
    "Bei sehr breiten Tabellen werden je nach Breite des Bildschirms automatisch Spalten bei der Anzeige ausgeblendet. Dies ist oben durch \"...\" in der Ausgabe gekennzeichnet.\n",
    "\n",
    "Soll explizit die Anzahl der anzuzeigenden Spalten begrenzt oder wie im Beispiel unten aufgehoben werden (hier `None`), so kann die über setzen der Optionen des DataFrames mir `set_option()` geschehen (vgl. [Liste aller möglichen Optionen](https://pandas.pydata.org/docs/reference/api/pandas.set_option.html?highlight=set_option#pandas.set_option)).\n",
    "\n",
    "Nun wird die gesamte Breite des DataFrames ausgegeben."
   ]
  },
  {
   "cell_type": "code",
   "execution_count": null,
   "metadata": {},
   "outputs": [],
   "source": [
    "pd.set_option(\"display.max.columns\", None)\n",
    "nba.head()"
   ]
  },
  {
   "cell_type": "markdown",
   "metadata": {},
   "source": [
    "Die Option `display_precision` hilft die Anzeige von Gleitpunktzahlen lesbarer zu gestalten.\n",
    "\n",
    "Analog zu `head()` liefert `tail()` das Ende, also die letzten Teilen eines Frames."
   ]
  },
  {
   "cell_type": "code",
   "execution_count": null,
   "metadata": {},
   "outputs": [],
   "source": [
    "pd.set_option(\"display.precision\", 2)\n",
    "nba.tail()"
   ]
  },
  {
   "cell_type": "markdown",
   "metadata": {},
   "source": [
    "### Aufgabe\n",
    "\n",
    "Geben Sie die letzten drei Zeilen des DataFrames aus."
   ]
  },
  {
   "cell_type": "code",
   "execution_count": null,
   "metadata": {},
   "outputs": [],
   "source": [
    "nba.tail(3)"
   ]
  },
  {
   "cell_type": "markdown",
   "metadata": {},
   "source": [
    "## Den Inhalt des DataFrames kennenlernen"
   ]
  },
  {
   "cell_type": "markdown",
   "metadata": {},
   "source": [
    "### Datentypen mit `.info()` anzeigen\n",
    "\n",
    "Die `info()`-Funktion zeigt für alle Spalten des DataFrame die verwendeten Datentypen an. Hier hat pandas beim Import der CSV-Datei zu Beginn alle Spalten analysiert un einen mehr oder weniger geeigneten Datentyp ausgewählt. \n",
    "* `int64` ist ein ganzzahliger numerischer 64-bit Datentyp \n",
    "* `float64`ist eine 64-bit Gleitpunktzahl\n",
    "* `object` ist der allen Datentypen zugrundeliegende Basisdatentyp in Pythons Datentypenhierarchie. \n",
    "\n",
    "Man erkennt dass für alle numerischen Typen abhängig vom Vorhandenseins eines Kommas (oder Punkts) dezidiert entweder `int64` oder `float64` festgelegt, für alle anderen Spalten jedoch der sehr allgemeine Datentyp `object`. Folgen und Maßnahmen dazu lernen Sie im weiteren Verlauf kennen.\n",
    "\n",
    "Interssant ist auch die Spalte `Non-Null-Count` in der Ausgabe. Alle Spalten haben für jede Zeile Werte, bis auf die Spalte `notes`, die nur in 5424 der 126314 Zeilen gefüllt ist."
   ]
  },
  {
   "cell_type": "code",
   "execution_count": null,
   "metadata": {},
   "outputs": [],
   "source": [
    "nba.info()"
   ]
  },
  {
   "cell_type": "markdown",
   "metadata": {},
   "source": [
    "### (Mini-)Statistik mit  `.describe()`\n",
    "\n",
    "Die Funktion `describe()` generiert eine zusammenfassende Statistik aller *numerischen* Spaten des DataFrames. Fehlende Werte (NaNs) in den Spalten werden dabei ignoriert.  \n",
    "\n",
    "* count: Anzahl der Zeilen, die gefüllt sind (also nicht NaN)\n",
    "* mean: Arithmetisches Mittel\n",
    "* std: Standardabweichung, ugs. \"Durchschnittliche Entfernung der Werte vom Mittel\"\n",
    "* min/max: Minimum und Maximum\n",
    "* 25%/50%/75% Perzentile: Quantile (Bsp für 25% Perzentil: 25% der Werte sind kleiner als X)"
   ]
  },
  {
   "cell_type": "code",
   "execution_count": null,
   "metadata": {},
   "outputs": [],
   "source": [
    "nba.describe()"
   ]
  },
  {
   "cell_type": "markdown",
   "metadata": {},
   "source": [
    "Eine Minimal-Statistik für nicht-numerische Typen erhält man, wenn man describe den parameter `include=object` übergibt."
   ]
  },
  {
   "cell_type": "code",
   "execution_count": null,
   "metadata": {},
   "outputs": [],
   "source": [
    "nba.describe(include=object)"
   ]
  },
  {
   "cell_type": "markdown",
   "metadata": {},
   "source": [
    "### Explorative Datenanalyse mit Pandas (ein Anfang...)\n",
    "\n",
    "Mit dem Index-Operator `[]` greifen wir auf die Spalte mit dem Label team_id zu. Die Funktion `value_counts()` berechnet die Anzahl der der Sätze mit gleichem Inhalt. In unserem Beispiel wird dadurch die Anzahl der Heimspiele für jede Mannschaft ermittelt."
   ]
  },
  {
   "cell_type": "code",
   "execution_count": null,
   "metadata": {},
   "outputs": [],
   "source": [
    "nba[\"team_id\"].value_counts()\n",
    "# Expected:\n",
    "# BOS    5997\n",
    "# NYK    5769\n",
    "# LAL    5078\n",
    "\n",
    "# SDS      11"
   ]
  },
  {
   "cell_type": "markdown",
   "metadata": {},
   "source": [
    "Benutzen wir die Spalte `fran_id` so wird das Gleiche für den Namen des Teams ermittelt. Beachten Sie dass die Boston Celtics (BOS) der Wert übereinstimmt, die Lakers (LAL) aber abweichende Werte haben. Wie kann das sein?  "
   ]
  },
  {
   "cell_type": "code",
   "execution_count": null,
   "metadata": {},
   "outputs": [],
   "source": [
    "nba[\"fran_id\"].value_counts()\n",
    "# Expected:\n",
    "# Lakers          6024\n",
    "# Celtics         5997\n",
    "# Knicks          5769\n",
    "\n",
    "# Falcons           60\n",
    "# Name: fran_id, dtype: int64"
   ]
  },
  {
   "cell_type": "markdown",
   "metadata": {},
   "source": [
    "An  die Funktion `loc[]` kann als erstes Argument eine boolsche Bedingung (= Filter) und als zweites Argument eine Liste an auszugebenden Spalten übergeben werden.\n",
    "Im Beispiel wird dadurch die Ermittlung der Spielanzahl nur für Zeilen mit dem Teamnamen `Lakers` durchgeführt. \n",
    "\n",
    "Es gibt wohl noch ein zweites Team mit dem selben Namen."
   ]
  },
  {
   "cell_type": "code",
   "execution_count": null,
   "metadata": {},
   "outputs": [],
   "source": [
    "nba.loc[nba[\"fran_id\"] == \"Lakers\", (\"team_id\", \"fran_id\")].value_counts()\n",
    "# Expected:\n",
    "# LAL    5078\n",
    "# MNL     946\n",
    "# Name: team_id, dtype: int64"
   ]
  },
  {
   "cell_type": "markdown",
   "metadata": {},
   "source": [
    "Lassen Sie uns die Spiele der Lakers untersuchen. Dazu wandeln wir zuerst die Spalte mit dem Spieldatum in den richtigen Datentyp um. Bisher war die Spalte vom allgemeinen Typ object und somit nicht für Datumsoperationen nutzbar."
   ]
  },
  {
   "cell_type": "code",
   "execution_count": null,
   "metadata": {},
   "outputs": [],
   "source": [
    "nba[\"date_played\"] = pd.to_datetime(nba[\"date_game\"])"
   ]
  },
  {
   "cell_type": "markdown",
   "metadata": {},
   "source": [
    "Das allererste Spiel des Teams MNL:"
   ]
  },
  {
   "cell_type": "code",
   "execution_count": null,
   "metadata": {},
   "outputs": [],
   "source": [
    "nba.loc[nba[\"team_id\"] == \"MNL\", \"date_played\"].min()\n",
    "# Expected:\n",
    "# Timestamp('1948-11-04 00:00:00')"
   ]
  },
  {
   "cell_type": "markdown",
   "metadata": {},
   "source": [
    "Das letzte Spiel des Teams MNL:"
   ]
  },
  {
   "cell_type": "code",
   "execution_count": null,
   "metadata": {},
   "outputs": [],
   "source": [
    "nba.loc[nba[\"team_id\"] == \"MNL\", \"date_played\"].max()\n",
    "# Expected:\n",
    "# Timestamp('1960-03-26 00:00:00')"
   ]
  },
  {
   "cell_type": "markdown",
   "metadata": {},
   "source": [
    "Beide Aggregatsfunktionen `min` und `max` können wir auch in einem Durchlauf mit der funktion `agg()` ausführen. Weitere Funktionen, wie zum Beispiel zum Bilden von Summen, finden Sie in der [Pandas Dokumentation](https://pandas.pydata.org/pandas-docs/stable/reference/frame.html#computations-descriptive-stats)"
   ]
  },
  {
   "cell_type": "code",
   "execution_count": null,
   "metadata": {},
   "outputs": [],
   "source": [
    "nba.loc[nba[\"team_id\"] == \"MNL\", \"date_played\"].agg((\"min\", \"max\"))\n",
    "# Expected:\n",
    "# min   1948-11-04\n",
    "# max   1960-03-26\n",
    "# Name: date_played, dtype: datetime64[ns]"
   ]
  },
  {
   "cell_type": "markdown",
   "metadata": {},
   "source": [
    "Die MNL Lakers (Minneapolis Lakers) waren also nur bis in die 60er Jahre aktiv. Danach ist das Team (bzw. das Franchise) von Minnesota nach Los Angeles umgezogen. [https://de.wikipedia.org/wiki/Los_Angeles_Lakers](https://de.wikipedia.org/wiki/Los_Angeles_Lakers)"
   ]
  },
  {
   "cell_type": "markdown",
   "metadata": {},
   "source": [
    "#### Aufgabe\n",
    "\n",
    "Wie viele Punkte haben die Boston Celtics in allen Spielen dieses data sets erzielt?"
   ]
  },
  {
   "cell_type": "code",
   "execution_count": null,
   "metadata": {},
   "outputs": [],
   "source": [
    "nba.loc[nba[\"team_id\"] == \"BOS\", \"pts\"].sum()"
   ]
  },
  {
   "cell_type": "markdown",
   "metadata": {},
   "source": [
    "## Pandas Datenstrukturen kennenlernen"
   ]
  },
  {
   "cell_type": "markdown",
   "metadata": {},
   "source": [
    "### `Series`: Die \"Basis\"-Datenstruktur in Pandas"
   ]
  },
  {
   "cell_type": "markdown",
   "metadata": {},
   "source": [
    "Man erzeugt einen neue Series mit dem `Series()`-Befehl. Hier können z.B. Python Listen als Argument übergeben werden. Im Beispiel unten wird eine Reihe von Umsätzen erzeugt."
   ]
  },
  {
   "cell_type": "code",
   "execution_count": null,
   "metadata": {},
   "outputs": [],
   "source": [
    "revenues = pd.Series([5555, 7000, 1980])\n",
    "revenues\n",
    "# Expected:\n",
    "# 0    5555\n",
    "# 1    7000\n",
    "# 2    1980\n",
    "# dtype: int64"
   ]
  },
  {
   "cell_type": "markdown",
   "metadata": {},
   "source": [
    "Im Ergebnis sind zwei Spalten zu erkennen: die eigentlichen Umsätze und eine Nummerierung für jede Zeile. Zugriff auf die Werte dieser series erhält man mit `revenue.values`. Das Ergebnis ist ein Python Array."
   ]
  },
  {
   "cell_type": "code",
   "execution_count": null,
   "metadata": {},
   "outputs": [],
   "source": [
    "revenues.values\n",
    "# Expected:\n",
    "# array([5555, 7000, 1980])"
   ]
  },
  {
   "cell_type": "code",
   "execution_count": null,
   "metadata": {},
   "outputs": [],
   "source": [
    "type(revenues.values)\n",
    "# Expected:\n",
    "# <class 'numpy.ndarray'>"
   ]
  },
  {
   "cell_type": "markdown",
   "metadata": {},
   "source": [
    "Die Nummerierung der Sätze ist der Index über den auf die Werte zugegriffen werden kann. [Pandas RangeIndex](https://pandas.pydata.org/docs/reference/api/pandas.RangeIndex.html)"
   ]
  },
  {
   "cell_type": "code",
   "execution_count": null,
   "metadata": {},
   "outputs": [],
   "source": [
    "revenues.index\n",
    "# Expected:\n",
    "# RangeIndex(start=0, stop=3, step=1)"
   ]
  },
  {
   "cell_type": "markdown",
   "metadata": {},
   "source": [
    "Indizes zu Series können auch explizit vergeben werden. Im Beispiel unten wird der Series ein alphanumerischer Index zugewiesen der die Namen der Städte als \"Labels\" für die Umsätze festlegt."
   ]
  },
  {
   "cell_type": "code",
   "execution_count": null,
   "metadata": {},
   "outputs": [],
   "source": [
    "city_revenues = pd.Series(\n",
    "    [4200, 8000, 6500],\n",
    "    index=[\"Amsterdam\", \"Toronto\", \"Tokyo\"]\n",
    ")\n",
    "city_revenues\n",
    "# Expected:\n",
    "# Amsterdam    4200\n",
    "# Toronto      8000\n",
    "# Tokyo        6500\n",
    "# dtype: int64"
   ]
  },
  {
   "cell_type": "code",
   "execution_count": null,
   "metadata": {},
   "outputs": [],
   "source": [
    "city_revenues.index"
   ]
  },
  {
   "cell_type": "markdown",
   "metadata": {},
   "source": [
    "Wird ein Python dictionary (andernorts auch Hash genannt, also eine Menge an Schlüssel+Wert Paaren) als Datenelement bei der Initialisierung der Series verwendet, so wird automatisch ein Index in der Reihenfolge der Schlüsselwerte erzeugt."
   ]
  },
  {
   "cell_type": "code",
   "execution_count": null,
   "metadata": {},
   "outputs": [],
   "source": [
    "city_employee_count = pd.Series({\"Amsterdam\": 5, \"Tokyo\": 8})\n",
    "city_employee_count\n",
    "# Expected:\n",
    "# Amsterdam    5\n",
    "# Tokyo        8\n",
    "# dtype: int64"
   ]
  },
  {
   "cell_type": "markdown",
   "metadata": {},
   "source": [
    "Die dictionary Methode `city_employee_count.keys()` führt bei series zum gleichen Ergebnis wie `city_employee_count.index`."
   ]
  },
  {
   "cell_type": "code",
   "execution_count": null,
   "metadata": {},
   "outputs": [],
   "source": [
    "city_employee_count.keys()\n",
    "# Expected:\n",
    "# Index(['Amsterdam', 'Tokyo'], dtype='object')"
   ]
  },
  {
   "cell_type": "markdown",
   "metadata": {},
   "source": [
    "Series können wie Listen und andere Sequence-artige Typen auf Vorhandensein von Elementen überprüft werden."
   ]
  },
  {
   "cell_type": "code",
   "execution_count": null,
   "metadata": {},
   "outputs": [],
   "source": [
    "\"Tokyo\" in city_employee_count\n",
    "# Expected:\n",
    "# True"
   ]
  },
  {
   "cell_type": "code",
   "execution_count": null,
   "metadata": {},
   "outputs": [],
   "source": [
    "\"New York\" in city_employee_count\n",
    "# Expected:\n",
    "# False"
   ]
  },
  {
   "cell_type": "markdown",
   "metadata": {},
   "source": [
    "### `DataFrame`: Pandas' beliebteste Datenstruktur\n",
    "\n",
    "DataFrames sind mehrdimensionale Datenstrukturen die aus mehreren Datenreihen (-->Series) mit entsprechenden Labels (also Spaltenüberschriften) und einem Index bestehen. In unserem Beispiel verbinden wir die beiden obigen Series Objekte zu einem gemeinsamen DataFrame. Der Inder wird über das verschmelzen der beiden Indizes der ursprünglichen Series gebildet. Liegt zu einem der Indizes nicht in jeder Series ein Wert vor, so wird mit `NaN` aufgefüllt."
   ]
  },
  {
   "cell_type": "code",
   "execution_count": null,
   "metadata": {},
   "outputs": [],
   "source": [
    "city_data = pd.DataFrame({\n",
    "    \"revenue\": city_revenues,\n",
    "    \"employee_count\": city_employee_count\n",
    "})\n",
    "city_data\n",
    "# Expected:\n",
    "#               revenue         employee_count\n",
    "# Amsterdam     4200            5.0\n",
    "# Tokyo         6500            8.0\n",
    "# Toronto       8000            NaN"
   ]
  },
  {
   "cell_type": "code",
   "execution_count": null,
   "metadata": {},
   "outputs": [],
   "source": [
    "city_data.index\n",
    "# Expected:\n",
    "# Index(['Amsterdam', 'Tokyo', 'Toronto'], dtype='object')"
   ]
  },
  {
   "cell_type": "markdown",
   "metadata": {},
   "source": [
    "Die Werte sind nun keine eindimensionalen Arrays mehr sondern, wie erwartet, zweidimensional."
   ]
  },
  {
   "cell_type": "code",
   "execution_count": null,
   "metadata": {},
   "outputs": [],
   "source": [
    "city_data.values\n",
    "# Expected:\n",
    "# array([[4.2e+03, 5.0e+00],\n",
    "#        [6.5e+03, 8.0e+00],\n",
    "#        [8.0e+03,     nan]])"
   ]
  },
  {
   "cell_type": "markdown",
   "metadata": {},
   "source": [
    "Lassen wir uns die \"Achsen\" dieser zweidimensionalen Datenstruktur mit `city_data.axes` ausgeben, so sieht man, dass auch für die Spaltenüberschriften, also für unser zwei Variablen (Umsatz und # Mitarbeiter), ein Index gebildet wurde.\n",
    "Diese beiden Indizes sind ihrerseits in einem Array verpackt (man bemerke die eckigen Klammern ganz außen) und so kann wie gewohnt mit `[0]` und `[1]` über die Position im Array auf die einzelnen Objekte zugegriffen werden."
   ]
  },
  {
   "cell_type": "code",
   "execution_count": null,
   "metadata": {},
   "outputs": [],
   "source": [
    "city_data.axes\n",
    "# Expected:\n",
    "# [Index(['Amsterdam', 'Tokyo', 'Toronto'], dtype='object'),\n",
    "# Index(['revenue', 'employee_count'], dtype='object')]"
   ]
  },
  {
   "cell_type": "code",
   "execution_count": null,
   "metadata": {},
   "outputs": [],
   "source": [
    "city_data.axes[0]\n",
    "# Expected:\n",
    "# Index(['Amsterdam', 'Tokyo', 'Toronto'], dtype='object')"
   ]
  },
  {
   "cell_type": "code",
   "execution_count": null,
   "metadata": {},
   "outputs": [],
   "source": [
    "city_data.axes[1]\n",
    "# Expected:\n",
    "# Index(['revenue', 'employee_count'], dtype='object')"
   ]
  },
  {
   "cell_type": "markdown",
   "metadata": {},
   "source": [
    "`Achtung`\n",
    "\n",
    "Es gibt auch Unterschiede wie diese beiden Indizes auf DataFrame ebene angesprochen werden. \n",
    "\n",
    "Die Funktion `keys()` liefert den \"Spaltenindex\", das Attribut `.index` liefert hingegen den \"Zeilenindex\".\n",
    "Wird mit dem `in` Operator direkt der DataFrame durchsucht, so wird nur in den Spaltenüberschriften gesucht."
   ]
  },
  {
   "cell_type": "code",
   "execution_count": null,
   "metadata": {},
   "outputs": [],
   "source": [
    "city_data.keys()\n",
    "# Expected:\n",
    "# Index(['revenue', 'employee_count'], dtype='object')"
   ]
  },
  {
   "cell_type": "code",
   "execution_count": null,
   "metadata": {},
   "outputs": [],
   "source": [
    "city_data.index"
   ]
  },
  {
   "cell_type": "code",
   "execution_count": null,
   "metadata": {},
   "outputs": [],
   "source": [
    "\"Amsterdam\" in city_data.index"
   ]
  },
  {
   "cell_type": "code",
   "execution_count": null,
   "metadata": {},
   "outputs": [],
   "source": [
    "\"Amsterdam\" in city_data\n",
    "# Expected:\n",
    "# False"
   ]
  },
  {
   "cell_type": "code",
   "execution_count": null,
   "metadata": {},
   "outputs": [],
   "source": [
    "\"revenue\" in city_data\n",
    "# Expected:\n",
    "# True"
   ]
  },
  {
   "cell_type": "markdown",
   "metadata": {},
   "source": [
    "#### Aufgabe\n",
    "\n",
    "* Zeigen Sie die Achsen und den index des `nba` datasets an.\n",
    "* Überprüfen Sie, ob die Spalte \"points\" existiert. Oder hieß die vielleicht \"pts\"?"
   ]
  },
  {
   "cell_type": "code",
   "execution_count": null,
   "metadata": {},
   "outputs": [],
   "source": [
    "nba.index"
   ]
  },
  {
   "cell_type": "code",
   "execution_count": null,
   "metadata": {},
   "outputs": [],
   "source": [
    "nba.axes"
   ]
  },
  {
   "cell_type": "code",
   "execution_count": null,
   "metadata": {},
   "outputs": [],
   "source": [
    "\"points\" in nba.keys()"
   ]
  },
  {
   "cell_type": "code",
   "execution_count": null,
   "metadata": {},
   "outputs": [],
   "source": [
    "\"pts\" in nba.keys()"
   ]
  },
  {
   "cell_type": "markdown",
   "metadata": {},
   "source": [
    "## Zugriff auf Elemente für Python `list` und Pandas `Series` Objekte: Gemeinsamkeiten und Unterschiede"
   ]
  },
  {
   "cell_type": "markdown",
   "metadata": {},
   "source": [
    "### Der Python Index Operator `[]`"
   ]
  },
  {
   "cell_type": "code",
   "execution_count": null,
   "metadata": {},
   "outputs": [],
   "source": [
    "city_revenues\n",
    "# Expected:\n",
    "# Amsterdam    4200\n",
    "# Toronto      8000\n",
    "# Tokyo        6500\n",
    "# dtype: int64"
   ]
  },
  {
   "cell_type": "markdown",
   "metadata": {},
   "source": [
    "Zugriff über Index-Wert:"
   ]
  },
  {
   "cell_type": "code",
   "execution_count": null,
   "metadata": {},
   "outputs": [],
   "source": [
    "city_revenues[\"Toronto\"]\n",
    "# Expected:\n",
    "# 8000"
   ]
  },
  {
   "cell_type": "markdown",
   "metadata": {},
   "source": [
    "Zugriff über Index-Position:"
   ]
  },
  {
   "cell_type": "code",
   "execution_count": null,
   "metadata": {},
   "outputs": [],
   "source": [
    "city_revenues[1]\n",
    "# Expected:\n",
    "# 8000"
   ]
  },
  {
   "cell_type": "markdown",
   "metadata": {},
   "source": [
    "Die Position `[-1]` liefert das letzte Element."
   ]
  },
  {
   "cell_type": "code",
   "execution_count": null,
   "metadata": {},
   "outputs": [],
   "source": [
    "city_revenues[-1]\n",
    "# Expected:\n",
    "# 6500"
   ]
  },
  {
   "cell_type": "markdown",
   "metadata": {},
   "source": [
    "Bereiche können einfach über`[n:m]` selektiert werden. n ist dabei immer eingeschlossen und m ausgeschlossen. Auch einseitig begrenzte Intervalle sind durch Weglassen einer Grenze möglich."
   ]
  },
  {
   "cell_type": "code",
   "execution_count": null,
   "metadata": {},
   "outputs": [],
   "source": [
    "city_revenues[1:]\n",
    "# Expected:\n",
    "# Toronto    8000\n",
    "# Tokyo      6500\n",
    "# dtype: int64"
   ]
  },
  {
   "cell_type": "code",
   "execution_count": null,
   "metadata": {},
   "outputs": [],
   "source": [
    "city_revenues[\"Toronto\":]\n",
    "# Expected:\n",
    "# Toronto    8000\n",
    "# Tokyo      6500\n",
    "# dtype: int64"
   ]
  },
  {
   "cell_type": "markdown",
   "metadata": {},
   "source": [
    "### Zugriff auf `Series`' Elemente via `.loc` und `.iloc`"
   ]
  },
  {
   "cell_type": "code",
   "execution_count": null,
   "metadata": {},
   "outputs": [],
   "source": [
    "colors = pd.Series(\n",
    "    [\"red\", \"purple\", \"blue\", \"green\", \"yellow\"],\n",
    "    index=[1, 2, 3, 5, 8]\n",
    ")\n",
    "colors\n",
    "# Expected:\n",
    "# 1       red\n",
    "# 2    purple\n",
    "# 3      blue\n",
    "# 5     green\n",
    "# 8    yellow\n",
    "# dtype: object"
   ]
  },
  {
   "cell_type": "markdown",
   "metadata": {},
   "source": [
    "Die Pandas Funktionen `loc[i]` und  `iloc[j]` können zusätzlich benutzt werden um auf Elemente von Series zuzugreifen. \n",
    "\n",
    "* `loc[i]` liefert das Element der Series mit dem Index `i` zurück. Es wird vom expliziten Index gesprochen.\n",
    "* `iloc[j]` liefert das Element an der j-ten Position zurück. Es wird hier vom impliziten Index gesprochen.\n",
    "\n",
    "Es sind auch Bereiche (wie oben) möglich.\n"
   ]
  },
  {
   "cell_type": "code",
   "execution_count": null,
   "metadata": {},
   "outputs": [],
   "source": [
    "colors.loc[1]\n",
    "# Expected:\n",
    "# 'red'"
   ]
  },
  {
   "cell_type": "code",
   "execution_count": null,
   "metadata": {},
   "outputs": [],
   "source": [
    "colors.iloc[1]\n",
    "# Expected:\n",
    "# 'purple'"
   ]
  },
  {
   "cell_type": "code",
   "execution_count": null,
   "metadata": {},
   "outputs": [],
   "source": [
    "colors.iloc[1:3]\n",
    "# Expected:\n",
    "# 2    purple\n",
    "# 3      blue\n",
    "# dtype: object"
   ]
  },
  {
   "cell_type": "code",
   "execution_count": null,
   "metadata": {},
   "outputs": [],
   "source": [
    "colors.loc[3:8]\n",
    "# Expected:\n",
    "# 3      blue\n",
    "# 5     green\n",
    "# 8    yellow\n",
    "# dtype: object"
   ]
  },
  {
   "cell_type": "code",
   "execution_count": null,
   "metadata": {},
   "outputs": [],
   "source": [
    "colors.iloc[-2]\n",
    "# Expected:\n",
    "# 'green'"
   ]
  },
  {
   "cell_type": "markdown",
   "metadata": {},
   "source": [
    "## Zugriff auf `DataFrame` Elemente"
   ]
  },
  {
   "cell_type": "markdown",
   "metadata": {},
   "source": [
    "### Zugriff auf Spalten eines `DataFrame`\n",
    "\n",
    "Da ein DataFrame zwei Dimensionen besitzt gibt es nun mehrere Möglichkeiten Elemente aus diesem zu selektieren. \n",
    "\n",
    "Sie können entweder \n",
    "* einen Teil der Spalten,\n",
    "* einen Teil der Zeilen oder\n",
    "* eine Kombination aus Zeilen und Spalten \n",
    "\n",
    "des DataFrames selektieren.\n",
    "\n",
    "Für die Spalten verwenden Sie den klassischen Python Index Operator `[]` mit dem Indexwert für die jeweilige Spalte."
   ]
  },
  {
   "cell_type": "code",
   "execution_count": null,
   "metadata": {},
   "outputs": [],
   "source": [
    "city_data[\"revenue\"]\n",
    "# Expected:\n",
    "# Amsterdam    4200\n",
    "# Tokyo        6500\n",
    "# Toronto      8000\n",
    "# Name: revenue, dtype: int64"
   ]
  },
  {
   "cell_type": "markdown",
   "metadata": {},
   "source": [
    "Dieser jetzt eindimensionale Teil des DataFrames ist folgerichtig eine Series."
   ]
  },
  {
   "cell_type": "code",
   "execution_count": null,
   "metadata": {},
   "outputs": [],
   "source": [
    "type(city_data[\"revenue\"])\n",
    "# Expected:\n",
    "# pandas.core.series.Series"
   ]
  },
  {
   "cell_type": "markdown",
   "metadata": {},
   "source": [
    "Alternativ kann auch über die Attribute des Dataframes auf eine Spalte zugegriffen werden."
   ]
  },
  {
   "cell_type": "code",
   "execution_count": null,
   "metadata": {},
   "outputs": [],
   "source": [
    "city_data.revenue\n",
    "# Expected:\n",
    "# Amsterdam    4200\n",
    "# Tokyo        6500\n",
    "# Toronto      8000\n",
    "# Name: revenue, dtype: int64"
   ]
  },
  {
   "cell_type": "markdown",
   "metadata": {},
   "source": [
    "Hier kann es aber zu Problemen mit den Namensbereichen kommen. So ist das Attribut `shape` ein allgemeines Attribut das die Ausmaße, sprich die Form des DataFrames beschreibt. Eine gleichnamige Spalte kann also so nicht angesprochen werden, das der Name bereits belegt ist. Aus sind so Zugriffe auf Spalten mit Sonderzeichen in den Indexwerten nicht möglich."
   ]
  },
  {
   "cell_type": "code",
   "execution_count": null,
   "metadata": {},
   "outputs": [],
   "source": [
    "toys = pd.DataFrame([\n",
    "    {\"name\": \"ball\", \"shape\": \"sphere\"},\n",
    "    {\"name\": \"Rubik's cube\", \"shape\": \"cube\"}\n",
    "])\n",
    "toys[\"shape\"]\n",
    "# 0    sphere\n",
    "# 1      cube\n",
    "# Name: shape, dtype: object"
   ]
  },
  {
   "cell_type": "code",
   "execution_count": null,
   "metadata": {},
   "outputs": [],
   "source": [
    "toys.shape\n",
    "# Expected:\n",
    "# (2, 2)"
   ]
  },
  {
   "cell_type": "markdown",
   "metadata": {},
   "source": [
    "### Zugriff auf Zeilen des `DataFrame` mit `.loc` und `.iloc`\n",
    "\n",
    "`iloc` und `loc` selektieren Zeilen des Dataframes iwe oben beschrieben entweder explizit (`loc`) oder implizit (`iloc`). Wird nur eine Zeile selektiert so entsteht eine Series, werden mehrere Zeilen selektiert so ist das Ergebnis erneut ein DataFrame."
   ]
  },
  {
   "cell_type": "code",
   "execution_count": null,
   "metadata": {},
   "outputs": [],
   "source": [
    "city_data.loc[\"Amsterdam\"]\n",
    "# Expected:\n",
    "# revenue           4200.0\n",
    "# employee_count       5.0\n",
    "# Name: Amsterdam, dtype: float64"
   ]
  },
  {
   "cell_type": "code",
   "execution_count": null,
   "metadata": {},
   "outputs": [],
   "source": [
    "city_data.loc[\"Tokyo\": \"Toronto\"]\n",
    "# Expected:\n",
    "# revenue employee_count\n",
    "# Tokyo   6500    8.0\n",
    "# Toronto 8000    NaN"
   ]
  },
  {
   "cell_type": "code",
   "execution_count": null,
   "metadata": {},
   "outputs": [],
   "source": [
    "city_data.iloc[1]\n",
    "# Expected:\n",
    "# revenue           6500.0\n",
    "# employee_count       8.0\n",
    "# Name: Tokyo, dtype: float64"
   ]
  },
  {
   "cell_type": "markdown",
   "metadata": {},
   "source": [
    "#### Aufgabe\n",
    "\n",
    "Geben Sie die vorletzte Zeile des nba datasets aus."
   ]
  },
  {
   "cell_type": "code",
   "execution_count": null,
   "metadata": {},
   "outputs": [],
   "source": [
    "nba.iloc[[-2]]"
   ]
  },
  {
   "cell_type": "markdown",
   "metadata": {},
   "source": [
    "### Zugriff auf eine Teilmenge von Zeilen `und` Spalten eines `DataFrame` mit `.loc` und `.iloc`\n",
    "\n",
    "Indem man `loc` eine durch Komma getrennte Kombination aus Indexwerten für beide Achsen übergibt, erhält man bestimmte Spaten für einen Teil der Zeilen. Hier wird im Zeilenindex ein Wertebereich und für den Spaltenindex ein Einzelwert ausgewählt."
   ]
  },
  {
   "cell_type": "code",
   "execution_count": null,
   "metadata": {},
   "outputs": [],
   "source": [
    "city_data.loc[\"Amsterdam\": \"Tokyo\",  \"revenue\"]\n",
    "# Expected:\n",
    "# Amsterdam    4200\n",
    "# Tokyo        6500\n",
    "# Name: revenue, dtype: int64"
   ]
  },
  {
   "cell_type": "code",
   "execution_count": null,
   "metadata": {},
   "outputs": [],
   "source": [
    "city_data.loc[[\"Amsterdam\", \"Toronto\"],\"revenue\"]\n",
    "# Expected:\n",
    "# Amsterdam    4200\n",
    "# Toronto      8000\n",
    "# Name: revenue, dtype: int64"
   ]
  },
  {
   "cell_type": "markdown",
   "metadata": {},
   "source": [
    "#### Aufgabe\n",
    "\n",
    "Schauen Sie sich die Spiele mit den Labels 5555 und 5559 an. Wir interessieren uns für die Namen der beteiligten Mannschaften und die jeweils erzielten Punkte.\n"
   ]
  },
  {
   "cell_type": "code",
   "execution_count": null,
   "metadata": {},
   "outputs": [],
   "source": [
    "nba.loc[[5555,5559], [\"fran_id\", \"opp_fran\", \"pts\", \"opp_pts\"]]"
   ]
  },
  {
   "cell_type": "markdown",
   "metadata": {},
   "source": [
    "## Abfragen mit Pandas\n",
    "\n",
    "Nicht immer sind direkte Selektionen möglich oder gewollt. Oft muss ein Bereich nach einem bestimmten Kriterium oder einer Kombination von Kriterien durchsucht werden. Dazu können Sie direkt nach dem Namens des DataFrame in eckigen Klammern eine Reihe von Bedingungen angeben nach denen die zu selektierenden Zeilen ausgewählt werden."
   ]
  },
  {
   "cell_type": "code",
   "execution_count": null,
   "metadata": {},
   "outputs": [],
   "source": [
    "nba[nba[\"year_id\"] > 2010]\n",
    "# Expected:\n",
    "# 12658 rows × 24 columns"
   ]
  },
  {
   "cell_type": "markdown",
   "metadata": {},
   "source": [
    "Es können neue DataFrames für die spätere Verwendung auch auf Basis einer Selektion auf einen bestehenden DataFrame angelegt werden. Dies ist für Zwischenergebnisse oft sehr sinnvoll."
   ]
  },
  {
   "cell_type": "code",
   "execution_count": null,
   "metadata": {},
   "outputs": [],
   "source": [
    "games_with_notes = nba[nba[\"notes\"].notnull()]\n",
    "games_with_notes.shape\n",
    "# Expected:\n",
    "# (5424, 24)"
   ]
  },
  {
   "cell_type": "code",
   "execution_count": null,
   "metadata": {},
   "outputs": [],
   "source": [
    "ers = nba[nba[\"fran_id\"].str.endswith(\"ers\")]\n",
    "ers.shape\n",
    "# Expected:\n",
    "# (27797, 24)"
   ]
  },
  {
   "cell_type": "markdown",
   "metadata": {},
   "source": [
    "Sollen anschließend noch bestimmte Spalten oder gar explizit Zeilen ausgeschlossen werden, so kann die `loc`-Funktion angehängt werden."
   ]
  },
  {
   "cell_type": "code",
   "execution_count": null,
   "metadata": {},
   "outputs": [],
   "source": [
    "nba[\n",
    "    (nba[\"_iscopy\"] == 0) &\n",
    "    (nba[\"pts\"] > 100) &\n",
    "    (nba[\"opp_pts\"] > 100) &\n",
    "    (nba[\"team_id\"] == \"BLB\")\n",
    "].loc[:,\"fran_id\"]\n",
    "# Expected:\n",
    "# 1726    Baltimore\n",
    "# 4890    Baltimore\n",
    "# 4909    Baltimore\n",
    "# 5208    Baltimore\n",
    "# 5825    Baltimore\n",
    "# Name: fran_id, dtype: object"
   ]
  },
  {
   "cell_type": "markdown",
   "metadata": {},
   "source": [
    "#### Aufgabe\n",
    "\n",
    "Im Frühjahr des Jahres 1992 mussten beide Teams aus Los Angeles ein Heimspiel an einem anderen Ort abhalten. (Beide Spiele haben eine ID die mit \"LA\" beginnt. Änderungen und Bemerkungen sind in der Spalte notes vermerkt)\n",
    "\n",
    "[Hintergrund](https://de.wikipedia.org/wiki/Unruhen_in_Los_Angeles_1992)"
   ]
  },
  {
   "cell_type": "code",
   "execution_count": null,
   "metadata": {},
   "outputs": [],
   "source": [
    "nba.axes[0]"
   ]
  },
  {
   "cell_type": "code",
   "execution_count": null,
   "metadata": {},
   "outputs": [],
   "source": [
    "nba[\n",
    "    (nba[\"team_id\"].str.startswith(\"LA\")) &\n",
    "    (nba[\"date_played\"] >= \"1992-01-01\") &\n",
    "    (nba[\"date_played\"] < \"1993-01-01\") &\n",
    "    (nba[\"notes\"].notnull())\n",
    "]"
   ]
  },
  {
   "cell_type": "markdown",
   "metadata": {},
   "source": [
    "## Aggregationsfunktionen\n",
    "\n",
    "Aggregationsfunktionen werden verwendet um zusammenfassende Berechnungen über mehrere Werte oder sogar ganze Spalten durchzuführen. \n",
    "Sie sind in der Regel auf numerische WErte beschränkt.\n",
    "\n",
    "Gängige Funktionen sind:\n",
    "* Min\n",
    "* Max\n",
    "* Count\n",
    "* Sum"
   ]
  },
  {
   "cell_type": "markdown",
   "metadata": {},
   "source": [
    "### Aggregationen für `Series`"
   ]
  },
  {
   "cell_type": "code",
   "execution_count": null,
   "metadata": {},
   "outputs": [],
   "source": [
    "city_revenues.sum()\n",
    "# Expected:\n",
    "# 18700"
   ]
  },
  {
   "cell_type": "code",
   "execution_count": null,
   "metadata": {},
   "outputs": [],
   "source": [
    "city_revenues.max()\n",
    "# Expected:\n",
    "# 8000"
   ]
  },
  {
   "cell_type": "markdown",
   "metadata": {},
   "source": [
    "### Aggregationen für `DataFrames`\n",
    "\n",
    "Diese funktionieren analog zu Series, jedoch ist in den meisten Fällen die Einschränkung auf ein oder mehrere Spalten sinnvoll.\n"
   ]
  },
  {
   "cell_type": "code",
   "execution_count": null,
   "metadata": {},
   "outputs": [],
   "source": [
    "points = nba[\"pts\"]\n",
    "type(points)\n",
    "# Expected:\n",
    "# <class 'pandas.core.series.Series'>"
   ]
  },
  {
   "cell_type": "code",
   "execution_count": null,
   "metadata": {},
   "outputs": [],
   "source": [
    "points.sum()\n",
    "# Expected:\n",
    "# 12976235"
   ]
  },
  {
   "cell_type": "markdown",
   "metadata": {},
   "source": [
    "Das funktioniert natürlich auch ohne Zwischenspeichern:"
   ]
  },
  {
   "cell_type": "code",
   "execution_count": null,
   "metadata": {},
   "outputs": [],
   "source": [
    "nba[\"pts\"].sum()"
   ]
  },
  {
   "cell_type": "markdown",
   "metadata": {},
   "source": [
    "### Grouping (Gruppen)\n",
    "\n",
    "Sollen nun die gesammelten Punkte für jedes Team separat und nicht für die gesamte Liga aufsummiert werden, muss dei `groupby`-Funktion verwendet werden.\n",
    "Dabei werden die Gruppen (also die Teams) während der Laufzeit aus den Daten ermittelt und die Punkte auf einem \"Punktekonto\" für jedes gefundene Team gesammelt."
   ]
  },
  {
   "cell_type": "code",
   "execution_count": null,
   "metadata": {},
   "outputs": [],
   "source": [
    "nba.groupby(\"fran_id\", sort=False)[\"pts\"].sum()\n",
    "# Expected:\n",
    "# fran_id\n",
    "# Huskies           3995\n",
    "# Knicks          582497\n",
    "# Stags            20398\n",
    "# Falcons           3797\n",
    "# Capitols         22387"
   ]
  },
  {
   "cell_type": "markdown",
   "metadata": {},
   "source": [
    "Es sind auch mehrstufige Gruppierungen möglich. Im Beispiel unten wird pro Jahr die Anzahl der gewonnenen und verlorenen Spiele ermittelt.\n",
    "\n",
    "Sie sehen zusätzlich sehr schön wie die Abfrage vorher auf einen Zeitbereich und ein Team eingeschränkt wird."
   ]
  },
  {
   "cell_type": "code",
   "execution_count": null,
   "metadata": {},
   "outputs": [],
   "source": [
    "nba[\n",
    "    (nba[\"fran_id\"] == \"Spurs\") &\n",
    "    (nba[\"year_id\"] > 2010)\n",
    "].groupby([\"year_id\", \"game_result\"])[\"game_id\"].count()\n",
    "# Expected:\n",
    "# year_id  game_result\n",
    "# 2011     L              25\n",
    "# W              63\n",
    "# 2012     L              20\n",
    "# W              60\n",
    "# 2013     L              30\n",
    "# W              73\n",
    "# 2014     L              27\n",
    "# W              78\n",
    "# 2015     L              31\n",
    "# W              58\n",
    "# Name: game_id, dtype: int64"
   ]
  },
  {
   "cell_type": "markdown",
   "metadata": {},
   "source": [
    "#### Aufgabe\n",
    "\n",
    "Sehen wir uns die Saison 2014-15 (year_id: 2015) der Golden State Warriors genauer an. Wie viele Siege und Niederlagen gab es in der regulären Saison, wie viele in den Playoffs (Spalte is_playoffs)? \n"
   ]
  },
  {
   "cell_type": "code",
   "execution_count": null,
   "metadata": {},
   "outputs": [],
   "source": [
    "nba[\n",
    "    (nba[\"team_id\"] == \"GSW\") &\n",
    "    (nba[\"year_id\"] == 2015)\n",
    "].groupby([\"is_playoffs\", \"game_result\"])[\"game_id\"].count()"
   ]
  },
  {
   "cell_type": "markdown",
   "metadata": {},
   "source": [
    "## Änderungen an DataFrames"
   ]
  },
  {
   "cell_type": "markdown",
   "metadata": {},
   "source": [
    "DataFrames können 1:1 kopiert werden."
   ]
  },
  {
   "cell_type": "code",
   "execution_count": null,
   "metadata": {},
   "outputs": [],
   "source": [
    "df = nba.copy()\n",
    "df.shape\n",
    "# Expected:\n",
    "# (126314, 24)"
   ]
  },
  {
   "cell_type": "markdown",
   "metadata": {},
   "source": [
    "### Hinzufügen neuer Spalten\n",
    "\n",
    "Hier wird die Punktdifferenz als Ergebnis einer elementweisen Subtraktion zwischen zwei Spalten in eine neue Spalte gespeichert."
   ]
  },
  {
   "cell_type": "code",
   "execution_count": null,
   "metadata": {},
   "outputs": [],
   "source": [
    "df[\"difference\"] = df.pts - df.opp_pts\n",
    "df.shape\n",
    "# Expected:\n",
    "# (126314, 25)"
   ]
  },
  {
   "cell_type": "code",
   "execution_count": null,
   "metadata": {},
   "outputs": [],
   "source": [
    "df[\"difference\"].max()\n",
    "# Expected:\n",
    "# 68"
   ]
  },
  {
   "cell_type": "markdown",
   "metadata": {},
   "source": [
    "### Umbenennen von Spalten\n",
    "\n",
    "Spalten können beim Kopieren von DataFrames aber auch bei bestehenden DataFrames umbenannt werden., im letzteren Fall muss der Parameter `inplace = true` gesetzt werden."
   ]
  },
  {
   "cell_type": "code",
   "execution_count": null,
   "metadata": {},
   "outputs": [],
   "source": [
    "renamed_df = df.rename(\n",
    "    columns={\"game_result\": \"result\", \"game_location\": \"location\"}\n",
    ")\n",
    "renamed_df.info()\n",
    "# Expected:\n",
    "# <class 'pandas.core.frame.DataFrame'>\n",
    "# RangeIndex: 126314 entries, 0 to 126313\n",
    "# Data columns (total 25 columns):\n",
    "# gameorder      126314 non-null int64\n",
    "\n",
    "# location       126314 non-null object\n",
    "# result         126314 non-null object\n",
    "# forecast       126314 non-null float64\n",
    "# notes          5424 non-null object\n",
    "# date_played    126314 non-null datetime64[ns]\n",
    "# difference     126314 non-null int64\n",
    "# dtypes: datetime64[ns](1), float64(6), int64(8), object(10)\n",
    "# memory usage: 24.1+ MB"
   ]
  },
  {
   "cell_type": "markdown",
   "metadata": {},
   "source": [
    "### Spalten löschen"
   ]
  },
  {
   "cell_type": "code",
   "execution_count": null,
   "metadata": {},
   "outputs": [],
   "source": [
    "df.shape\n",
    "# Expected:\n",
    "# (126314, 25)"
   ]
  },
  {
   "cell_type": "markdown",
   "metadata": {},
   "source": [
    "Im Beispiel wird eine Liste an zu löschenden Spalten vorbereitet. Die Funktion `drop()` löscht nun aus den Spalten (`axis=1`), direkt im DataFrame (`inplace=true`) die angegebenen Spalten.\n",
    "\n",
    "Auf die gleiche Weise können auch Zeilen aus dem DataFrame gelöscht werden. Dazu muss nur auf dem Zeilenindex (`axis=0`) und mit passender Indexliste für die Zeilen gearbeitet werden. "
   ]
  },
  {
   "cell_type": "code",
   "execution_count": null,
   "metadata": {},
   "outputs": [],
   "source": [
    "elo_columns = [\"elo_i\", \"elo_n\", \"opp_elo_i\", \"opp_elo_n\"]\n",
    "df.drop(elo_columns, inplace=True, axis=1)\n",
    "df.shape\n",
    "# Expected:\n",
    "# (126314, 21)"
   ]
  },
  {
   "cell_type": "markdown",
   "metadata": {},
   "source": [
    "### Datentyp einer Spalte ändern\n",
    "\n",
    "Der Datentyp einer Spalte kann(!) beim Initialisieren des DataFrames festgelegt werden. Wird das nicht gemacht entstehen of Spalten mit sehr generischen Datentypen wie object. \n",
    "\n",
    "So ist in unserem BEspiel die Spalte date_game vpn Typ object obwohl dort sicher ein Datum gespeichert ist. Funktionen zum Verarbeiten von Datumswerten können hier also nicht ohne weiteres angewendet werden. Deeswegen macht es oft Sinn diese Spalten umzuwandeln."
   ]
  },
  {
   "cell_type": "code",
   "execution_count": null,
   "metadata": {},
   "outputs": [],
   "source": [
    "df.info()"
   ]
  },
  {
   "cell_type": "markdown",
   "metadata": {},
   "source": [
    "Hier wird nun die Spalte mit der Pandas Funktion `to_datetime` umgewandelt und anschließen an der vorigen Platz kopiert."
   ]
  },
  {
   "cell_type": "code",
   "execution_count": null,
   "metadata": {},
   "outputs": [],
   "source": [
    "df[\"date_game\"] = pd.to_datetime(df[\"date_game\"])"
   ]
  },
  {
   "cell_type": "markdown",
   "metadata": {},
   "source": [
    "Sollten Spalten nur einige wenige unterschiedliche Werte enthalten, so handelt sich of um kategoriale Variablen. Diese sollten im entsprechenden Datentyp abgelegt sein so dass diese a) speicherschonend verarbeitet werden und b) für statistische Auswertungen passend weiterverarbeitet werden können. "
   ]
  },
  {
   "cell_type": "code",
   "execution_count": null,
   "metadata": {},
   "outputs": [],
   "source": [
    "df[\"game_location\"].nunique()\n",
    "# Expected:\n",
    "# 3"
   ]
  },
  {
   "cell_type": "code",
   "execution_count": null,
   "metadata": {},
   "outputs": [],
   "source": [
    "df[\"game_location\"].value_counts()\n",
    "# Expected:\n",
    "# A    63138\n",
    "# H    63138\n",
    "# N       38\n",
    "# Name: game_location, dtype: int64"
   ]
  },
  {
   "cell_type": "code",
   "execution_count": null,
   "metadata": {},
   "outputs": [],
   "source": [
    "df[\"game_location\"] = pd.Categorical(df[\"game_location\"])\n",
    "df[\"game_location\"].dtype\n",
    "# Expected:\n",
    "# CategoricalDtype(categories=['A', 'H', 'N'], ordered=False)"
   ]
  },
  {
   "cell_type": "markdown",
   "metadata": {},
   "source": [
    "#### Aufgabe\n",
    "\n",
    "Finden Sie eine weitere Spalte, die einen zu allgemeinen Datentyp hat und ändern Sie diesen."
   ]
  },
  {
   "cell_type": "code",
   "execution_count": null,
   "metadata": {},
   "outputs": [],
   "source": [
    "df[\"game_result\"] = pd.Categorical(df[\"game_result\"])"
   ]
  },
  {
   "cell_type": "code",
   "execution_count": null,
   "metadata": {},
   "outputs": [],
   "source": [
    "df[\"game_result\"].dtype"
   ]
  },
  {
   "cell_type": "markdown",
   "metadata": {},
   "source": [
    "## Erste Visualisierungen\n",
    "In Pandas sind einige Visualisierungsfunktionalitäten direkt eingebaut und können über die Funktion `plot()` direkt aufgerufen werden."
   ]
  },
  {
   "cell_type": "code",
   "execution_count": null,
   "metadata": {},
   "outputs": [],
   "source": [
    "%matplotlib inline"
   ]
  },
  {
   "cell_type": "markdown",
   "metadata": {},
   "source": [
    "Hier wird die Summe der erzielten Punkte pro Jahr (--> `groupby`) für die New York Knicks ermittelt. Das ERgebnis ist eine Pandas Series die sich ein einem Liniendiagramm visualisieren lässt."
   ]
  },
  {
   "cell_type": "code",
   "execution_count": null,
   "metadata": {},
   "outputs": [],
   "source": [
    "nba[nba[\"fran_id\"] == \"Knicks\"].groupby(\"year_id\")[\"pts\"].sum().plot()"
   ]
  },
  {
   "cell_type": "markdown",
   "metadata": {},
   "source": [
    "Die Funktion `value_counts()` liefert für eine Series die Anzahl der eindeutigen Werte zurück. die zehn häufigsten Werte werden nun per Säulendiagramm visualisiert."
   ]
  },
  {
   "cell_type": "code",
   "execution_count": null,
   "metadata": {},
   "outputs": [],
   "source": [
    "nba[\"fran_id\"].value_counts().head(10).plot(kind=\"bar\")"
   ]
  },
  {
   "cell_type": "markdown",
   "metadata": {},
   "source": [
    "#### Aufgabe\n",
    "\n",
    "In 2013 haben die Miami Heat die Meisterschaft gewonnen. Erzeugen Sie ein Kuchendiagramm (= Pie) das die Anzahl der Siege und Niederlagen in dieser Saison zeigt. \n"
   ]
  },
  {
   "cell_type": "code",
   "execution_count": null,
   "metadata": {},
   "outputs": [],
   "source": [
    "nba.head()"
   ]
  },
  {
   "cell_type": "code",
   "execution_count": null,
   "metadata": {},
   "outputs": [],
   "source": [
    "nba[\n",
    "    (nba[\"fran_id\"] == \"Heat\") & \n",
    "    (nba[\"date_played\"].dt.year  == 2013)].groupby(\"game_result\")[\"game_result\"].count().plot(kind=\"pie\")"
   ]
  }
 ],
 "metadata": {
  "kernelspec": {
   "display_name": "Python 3",
   "language": "python",
   "name": "python3"
  },
  "language": "python",
  "language_info": {
   "codemirror_mode": {
    "name": "ipython",
    "version": 3
   },
   "file_extension": ".py",
   "mimetype": "text/x-python",
   "name": "python",
   "nbconvert_exporter": "python",
   "pygments_lexer": "ipython3",
   "version": "3.7.11"
  }
 },
 "nbformat": 4,
 "nbformat_minor": 4
}
