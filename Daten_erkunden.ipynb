{
 "cells": [
  {
   "cell_type": "markdown",
   "metadata": {},
   "source": [
    "# Daten erkunden\n"
   ]
  },
  {
   "cell_type": "markdown",
   "metadata": {},
   "source": [
    "Python Pakete einbinden."
   ]
  },
  {
   "cell_type": "code",
   "execution_count": 1,
   "metadata": {
    "execution": {
     "iopub.execute_input": "2021-09-02T14:39:49.931441Z",
     "iopub.status.busy": "2021-09-02T14:39:49.930827Z",
     "iopub.status.idle": "2021-09-02T14:39:51.513586Z",
     "shell.execute_reply": "2021-09-02T14:39:51.513066Z"
    }
   },
   "outputs": [],
   "source": [
    "%matplotlib inline\n",
    "\n",
    "import pandas as pd\n",
    "import numpy as np\n",
    "from scipy.stats import trim_mean\n",
    "from statsmodels import robust\n",
    "import wquantiles\n",
    "\n",
    "import matplotlib.pylab as plt"
   ]
  },
  {
   "cell_type": "markdown",
   "metadata": {},
   "source": [
    "# Lageparameter in der deskriptiven Statistik\n",
    "\n",
    "Lageparameter geben an, wo sich der größte Teil einer Stichprobe befindet. Sie werden auch als Maß der zentralen Tendenz bezeichnet.\n",
    "\n",
    "## Beispiel: Lageparameter zu Bevölkerung und Verbrechen in den USA\n",
    "\n",
    "Laden wir die Daten in einen pandas DataFrame und lassen uns den Inhalt anzeigen."
   ]
  },
  {
   "cell_type": "code",
   "execution_count": 2,
   "metadata": {
    "execution": {
     "iopub.execute_input": "2021-09-02T14:39:52.137292Z",
     "iopub.status.busy": "2021-09-02T14:39:52.136607Z",
     "iopub.status.idle": "2021-09-02T14:39:52.151822Z",
     "shell.execute_reply": "2021-09-02T14:39:52.150887Z"
    }
   },
   "outputs": [
    {
     "data": {
      "text/html": [
       "<div>\n",
       "<style scoped>\n",
       "    .dataframe tbody tr th:only-of-type {\n",
       "        vertical-align: middle;\n",
       "    }\n",
       "\n",
       "    .dataframe tbody tr th {\n",
       "        vertical-align: top;\n",
       "    }\n",
       "\n",
       "    .dataframe thead th {\n",
       "        text-align: right;\n",
       "    }\n",
       "</style>\n",
       "<table border=\"1\" class=\"dataframe\">\n",
       "  <thead>\n",
       "    <tr style=\"text-align: right;\">\n",
       "      <th></th>\n",
       "      <th>State</th>\n",
       "      <th>Population</th>\n",
       "      <th>Murder.Rate</th>\n",
       "      <th>Abbreviation</th>\n",
       "    </tr>\n",
       "  </thead>\n",
       "  <tbody>\n",
       "    <tr>\n",
       "      <th>0</th>\n",
       "      <td>Alabama</td>\n",
       "      <td>4779736</td>\n",
       "      <td>5.7</td>\n",
       "      <td>AL</td>\n",
       "    </tr>\n",
       "    <tr>\n",
       "      <th>1</th>\n",
       "      <td>Alaska</td>\n",
       "      <td>710231</td>\n",
       "      <td>5.6</td>\n",
       "      <td>AK</td>\n",
       "    </tr>\n",
       "    <tr>\n",
       "      <th>2</th>\n",
       "      <td>Arizona</td>\n",
       "      <td>6392017</td>\n",
       "      <td>4.7</td>\n",
       "      <td>AZ</td>\n",
       "    </tr>\n",
       "    <tr>\n",
       "      <th>3</th>\n",
       "      <td>Arkansas</td>\n",
       "      <td>2915918</td>\n",
       "      <td>5.6</td>\n",
       "      <td>AR</td>\n",
       "    </tr>\n",
       "    <tr>\n",
       "      <th>4</th>\n",
       "      <td>California</td>\n",
       "      <td>37253956</td>\n",
       "      <td>4.4</td>\n",
       "      <td>CA</td>\n",
       "    </tr>\n",
       "    <tr>\n",
       "      <th>5</th>\n",
       "      <td>Colorado</td>\n",
       "      <td>5029196</td>\n",
       "      <td>2.8</td>\n",
       "      <td>CO</td>\n",
       "    </tr>\n",
       "    <tr>\n",
       "      <th>6</th>\n",
       "      <td>Connecticut</td>\n",
       "      <td>3574097</td>\n",
       "      <td>2.4</td>\n",
       "      <td>CT</td>\n",
       "    </tr>\n",
       "    <tr>\n",
       "      <th>7</th>\n",
       "      <td>Delaware</td>\n",
       "      <td>897934</td>\n",
       "      <td>5.8</td>\n",
       "      <td>DE</td>\n",
       "    </tr>\n",
       "  </tbody>\n",
       "</table>\n",
       "</div>"
      ],
      "text/plain": [
       "         State  Population  Murder.Rate Abbreviation\n",
       "0      Alabama     4779736          5.7           AL\n",
       "1       Alaska      710231          5.6           AK\n",
       "2      Arizona     6392017          4.7           AZ\n",
       "3     Arkansas     2915918          5.6           AR\n",
       "4   California    37253956          4.4           CA\n",
       "5     Colorado     5029196          2.8           CO\n",
       "6  Connecticut     3574097          2.4           CT\n",
       "7     Delaware      897934          5.8           DE"
      ]
     },
     "execution_count": 2,
     "metadata": {},
     "output_type": "execute_result"
    }
   ],
   "source": [
    "state = pd.read_csv('state.csv')\n",
    "state.head(8)"
   ]
  },
  {
   "cell_type": "markdown",
   "metadata": {},
   "source": [
    "### Wie groß ist Bevölkerungsanzahl in den Staaten der USA im Mittel?\n",
    "\n",
    "Gängige Lageparameter sind um Antworten auf diese Frage zu erhalten sind:\n",
    "* das arthmetische Mittel (= Durchschnitt)\n",
    "* das getrimmte arithmetische Mittel \n",
    "* der Median (= der mittlere Wert)\n",
    "\n",
    "`mean` und `median` können mit den pandas Methoden für DataFrames berechnet werden.. \n",
    "\n",
    "Der getrimmt Mittlwert erfordert die `trim_mean` Funktion in _scipy.stats_."
   ]
  },
  {
   "cell_type": "code",
   "execution_count": 3,
   "metadata": {
    "execution": {
     "iopub.execute_input": "2021-09-02T14:39:52.156299Z",
     "iopub.status.busy": "2021-09-02T14:39:52.155846Z",
     "iopub.status.idle": "2021-09-02T14:39:52.162074Z",
     "shell.execute_reply": "2021-09-02T14:39:52.161536Z"
    }
   },
   "outputs": [
    {
     "data": {
      "text/plain": [
       "6162876.3"
      ]
     },
     "execution_count": 3,
     "metadata": {},
     "output_type": "execute_result"
    }
   ],
   "source": [
    "state['Population'].mean()"
   ]
  },
  {
   "cell_type": "markdown",
   "metadata": {},
   "source": [
    "Ein Bundesstaat hat also im Mittel ca. 6 Mio Einwohner. Lassen wir uns zusätzlich die Extremwerte anzeigen."
   ]
  },
  {
   "cell_type": "code",
   "execution_count": 4,
   "metadata": {},
   "outputs": [
    {
     "data": {
      "text/plain": [
       "37253956"
      ]
     },
     "execution_count": 4,
     "metadata": {},
     "output_type": "execute_result"
    }
   ],
   "source": [
    "state['Population'].max()"
   ]
  },
  {
   "cell_type": "code",
   "execution_count": 5,
   "metadata": {},
   "outputs": [
    {
     "data": {
      "text/plain": [
       "563626"
      ]
     },
     "execution_count": 5,
     "metadata": {},
     "output_type": "execute_result"
    }
   ],
   "source": [
    "state['Population'].min()"
   ]
  },
  {
   "cell_type": "markdown",
   "metadata": {},
   "source": [
    "Welcher Staat hat die kleinste Bevölkerungsanzahl?"
   ]
  },
  {
   "cell_type": "code",
   "execution_count": 6,
   "metadata": {},
   "outputs": [
    {
     "data": {
      "text/plain": [
       "49"
      ]
     },
     "execution_count": 6,
     "metadata": {},
     "output_type": "execute_result"
    }
   ],
   "source": [
    "state['Population'].idxmin()"
   ]
  },
  {
   "cell_type": "code",
   "execution_count": 7,
   "metadata": {},
   "outputs": [
    {
     "data": {
      "text/plain": [
       "State           Wyoming\n",
       "Population       563626\n",
       "Murder.Rate         2.7\n",
       "Abbreviation         WY\n",
       "Name: 49, dtype: object"
      ]
     },
     "execution_count": 7,
     "metadata": {},
     "output_type": "execute_result"
    }
   ],
   "source": [
    "state.iloc[49,:]"
   ]
  },
  {
   "cell_type": "code",
   "execution_count": 8,
   "metadata": {},
   "outputs": [
    {
     "data": {
      "text/plain": [
       "State           Wyoming\n",
       "Population       563626\n",
       "Murder.Rate         2.7\n",
       "Abbreviation         WY\n",
       "Name: 49, dtype: object"
      ]
     },
     "execution_count": 8,
     "metadata": {},
     "output_type": "execute_result"
    }
   ],
   "source": [
    "state.iloc[state['Population'].idxmin()]"
   ]
  },
  {
   "cell_type": "markdown",
   "metadata": {},
   "source": [
    "Diese Ausreißer kann man z.B. mit den getrimmten/trunkierten Mittelwert herausfiltern. Im Beispiel unten werden die oberen und unteren 10% der Werte ignoriert."
   ]
  },
  {
   "cell_type": "code",
   "execution_count": 9,
   "metadata": {
    "execution": {
     "iopub.execute_input": "2021-09-02T14:39:52.166031Z",
     "iopub.status.busy": "2021-09-02T14:39:52.165453Z",
     "iopub.status.idle": "2021-09-02T14:39:52.169393Z",
     "shell.execute_reply": "2021-09-02T14:39:52.168837Z"
    }
   },
   "outputs": [
    {
     "data": {
      "text/plain": [
       "4783697.125"
      ]
     },
     "execution_count": 9,
     "metadata": {},
     "output_type": "execute_result"
    }
   ],
   "source": [
    "trim_mean(state['Population'], 0.1)"
   ]
  },
  {
   "cell_type": "markdown",
   "metadata": {},
   "source": [
    "Dies liegt viel näher an einem weitere wichtigen Lageparameter: dem Median. hierbei wird die Reihe sortiert (hier nach Bevölkerungsanzahl) und der Wert selektiert, der genau in der Mitte liegt. "
   ]
  },
  {
   "cell_type": "code",
   "execution_count": 10,
   "metadata": {
    "execution": {
     "iopub.execute_input": "2021-09-02T14:39:52.173416Z",
     "iopub.status.busy": "2021-09-02T14:39:52.172906Z",
     "iopub.status.idle": "2021-09-02T14:39:52.175943Z",
     "shell.execute_reply": "2021-09-02T14:39:52.175549Z"
    }
   },
   "outputs": [
    {
     "data": {
      "text/plain": [
       "4436369.5"
      ]
     },
     "execution_count": 10,
     "metadata": {},
     "output_type": "execute_result"
    }
   ],
   "source": [
    "state['Population'].median()"
   ]
  },
  {
   "cell_type": "markdown",
   "metadata": {},
   "source": [
    "Um Mittelwerte für Skalen mit abhängigen Bezugsgrößen zu ermitteln kann der sogenannte gewichtete Mittelwert verwendet werden. Der gewichtete Mittelwert is im Paket numpy implementiert. Für den gewichteten Median können wir das spezialisierte paket `wquantiles` verwenden (https://pypi.org/project/wquantiles/)."
   ]
  },
  {
   "cell_type": "code",
   "execution_count": 11,
   "metadata": {
    "execution": {
     "iopub.execute_input": "2021-09-02T14:39:52.179872Z",
     "iopub.status.busy": "2021-09-02T14:39:52.179359Z",
     "iopub.status.idle": "2021-09-02T14:39:52.182283Z",
     "shell.execute_reply": "2021-09-02T14:39:52.181861Z"
    }
   },
   "outputs": [
    {
     "data": {
      "text/plain": [
       "4.066"
      ]
     },
     "execution_count": 11,
     "metadata": {},
     "output_type": "execute_result"
    }
   ],
   "source": [
    "state['Murder.Rate'].mean()\n"
   ]
  },
  {
   "cell_type": "code",
   "execution_count": 12,
   "metadata": {
    "execution": {
     "iopub.execute_input": "2021-09-02T14:39:52.179872Z",
     "iopub.status.busy": "2021-09-02T14:39:52.179359Z",
     "iopub.status.idle": "2021-09-02T14:39:52.182283Z",
     "shell.execute_reply": "2021-09-02T14:39:52.181861Z"
    }
   },
   "outputs": [
    {
     "data": {
      "text/plain": [
       "4.0"
      ]
     },
     "execution_count": 12,
     "metadata": {},
     "output_type": "execute_result"
    }
   ],
   "source": [
    "state['Murder.Rate'].median()\n"
   ]
  },
  {
   "cell_type": "code",
   "execution_count": 13,
   "metadata": {
    "execution": {
     "iopub.execute_input": "2021-09-02T14:39:52.188440Z",
     "iopub.status.busy": "2021-09-02T14:39:52.187888Z",
     "iopub.status.idle": "2021-09-02T14:39:52.191561Z",
     "shell.execute_reply": "2021-09-02T14:39:52.191043Z"
    }
   },
   "outputs": [
    {
     "data": {
      "text/plain": [
       "4.445833981123393"
      ]
     },
     "execution_count": 13,
     "metadata": {},
     "output_type": "execute_result"
    }
   ],
   "source": [
    "np.average(state['Murder.Rate'], weights=state['Population'])"
   ]
  },
  {
   "cell_type": "markdown",
   "metadata": {},
   "source": [
    "In unserem Beispiel ergibt sich keine große Änderung da die Mordrate schon auf Morde pro 100.000 Einwohner bezogen ermittelt wird. Wäre stattdessen die Anzahl der Morde als absoluter Wert im data set, würde nur der gewichtete Mittelwert eine korrekte Analyse ergeben.\n",
    "\n",
    "Auch der Median kann mit Hilfe von Gewichten beeinflusst werden. Im Beispiel unten, benutzen wir dazu das Paket wquantiles. "
   ]
  },
  {
   "cell_type": "code",
   "execution_count": 14,
   "metadata": {
    "execution": {
     "iopub.execute_input": "2021-09-02T14:39:52.196008Z",
     "iopub.status.busy": "2021-09-02T14:39:52.195355Z",
     "iopub.status.idle": "2021-09-02T14:39:52.199221Z",
     "shell.execute_reply": "2021-09-02T14:39:52.198783Z"
    },
    "scrolled": true
   },
   "outputs": [
    {
     "data": {
      "text/plain": [
       "4.4"
      ]
     },
     "execution_count": 14,
     "metadata": {},
     "output_type": "execute_result"
    }
   ],
   "source": [
    "wquantiles.median(state['Murder.Rate'], weights=state['Population'])"
   ]
  },
  {
   "cell_type": "markdown",
   "metadata": {},
   "source": [
    "# Streuungsparameter"
   ]
  },
  {
   "cell_type": "code",
   "execution_count": 15,
   "metadata": {
    "execution": {
     "iopub.execute_input": "2021-09-02T14:39:52.204514Z",
     "iopub.status.busy": "2021-09-02T14:39:52.202791Z",
     "iopub.status.idle": "2021-09-02T14:39:52.209599Z",
     "shell.execute_reply": "2021-09-02T14:39:52.209170Z"
    }
   },
   "outputs": [
    {
     "data": {
      "text/html": [
       "<div>\n",
       "<style scoped>\n",
       "    .dataframe tbody tr th:only-of-type {\n",
       "        vertical-align: middle;\n",
       "    }\n",
       "\n",
       "    .dataframe tbody tr th {\n",
       "        vertical-align: top;\n",
       "    }\n",
       "\n",
       "    .dataframe thead th {\n",
       "        text-align: right;\n",
       "    }\n",
       "</style>\n",
       "<table border=\"1\" class=\"dataframe\">\n",
       "  <thead>\n",
       "    <tr style=\"text-align: right;\">\n",
       "      <th></th>\n",
       "      <th>State</th>\n",
       "      <th>Population</th>\n",
       "      <th>Murder.Rate</th>\n",
       "      <th>Abbreviation</th>\n",
       "    </tr>\n",
       "  </thead>\n",
       "  <tbody>\n",
       "    <tr>\n",
       "      <th>0</th>\n",
       "      <td>Alabama</td>\n",
       "      <td>4779736</td>\n",
       "      <td>5.7</td>\n",
       "      <td>AL</td>\n",
       "    </tr>\n",
       "    <tr>\n",
       "      <th>1</th>\n",
       "      <td>Alaska</td>\n",
       "      <td>710231</td>\n",
       "      <td>5.6</td>\n",
       "      <td>AK</td>\n",
       "    </tr>\n",
       "    <tr>\n",
       "      <th>2</th>\n",
       "      <td>Arizona</td>\n",
       "      <td>6392017</td>\n",
       "      <td>4.7</td>\n",
       "      <td>AZ</td>\n",
       "    </tr>\n",
       "    <tr>\n",
       "      <th>3</th>\n",
       "      <td>Arkansas</td>\n",
       "      <td>2915918</td>\n",
       "      <td>5.6</td>\n",
       "      <td>AR</td>\n",
       "    </tr>\n",
       "    <tr>\n",
       "      <th>4</th>\n",
       "      <td>California</td>\n",
       "      <td>37253956</td>\n",
       "      <td>4.4</td>\n",
       "      <td>CA</td>\n",
       "    </tr>\n",
       "    <tr>\n",
       "      <th>5</th>\n",
       "      <td>Colorado</td>\n",
       "      <td>5029196</td>\n",
       "      <td>2.8</td>\n",
       "      <td>CO</td>\n",
       "    </tr>\n",
       "    <tr>\n",
       "      <th>6</th>\n",
       "      <td>Connecticut</td>\n",
       "      <td>3574097</td>\n",
       "      <td>2.4</td>\n",
       "      <td>CT</td>\n",
       "    </tr>\n",
       "    <tr>\n",
       "      <th>7</th>\n",
       "      <td>Delaware</td>\n",
       "      <td>897934</td>\n",
       "      <td>5.8</td>\n",
       "      <td>DE</td>\n",
       "    </tr>\n",
       "  </tbody>\n",
       "</table>\n",
       "</div>"
      ],
      "text/plain": [
       "         State  Population  Murder.Rate Abbreviation\n",
       "0      Alabama     4779736          5.7           AL\n",
       "1       Alaska      710231          5.6           AK\n",
       "2      Arizona     6392017          4.7           AZ\n",
       "3     Arkansas     2915918          5.6           AR\n",
       "4   California    37253956          4.4           CA\n",
       "5     Colorado     5029196          2.8           CO\n",
       "6  Connecticut     3574097          2.4           CT\n",
       "7     Delaware      897934          5.8           DE"
      ]
     },
     "execution_count": 15,
     "metadata": {},
     "output_type": "execute_result"
    }
   ],
   "source": [
    "state.head(8)"
   ]
  },
  {
   "cell_type": "markdown",
   "metadata": {},
   "source": [
    "## Die Standardabweichung\n",
    "\n",
    "Dieses Maß beschreibt, wie weit die gemessenen Werte im Schnitt vom Durchschnitt (genauer: vom arithmetisches Mittel) abweichen (sic!). \n",
    "\n",
    "D.h. für jeden Wert wird die Differenz zum Mittelwert gebildet. Diese Differenzen werden quadriert (um zu vermeiden das sich positive und negative Differenzen ausgleichen) und aufsummiert und anschließend durch die Anzahl der Messungen -1 geteilt. Als Ergebnis erhalten wir die sogenannte Varianz. Die Quadratwurzel aus diesem Wert ist die Standardabweichung.\n",
    "\n",
    "![](https://wikimedia.org/api/rest_v1/media/math/render/svg/96319e4ec5a4317a943c96b8a6408e71923fcc2c)\n",
    "\n",
    "Für unser Beispiel bedeutet dies, dass die Mordrate Bundestaaten im Mittel um 1.9 Punkte vom Durchschnitt abweicht."
   ]
  },
  {
   "cell_type": "code",
   "execution_count": 16,
   "metadata": {
    "execution": {
     "iopub.execute_input": "2021-09-02T14:39:52.213886Z",
     "iopub.status.busy": "2021-09-02T14:39:52.213403Z",
     "iopub.status.idle": "2021-09-02T14:39:52.216440Z",
     "shell.execute_reply": "2021-09-02T14:39:52.215987Z"
    }
   },
   "outputs": [
    {
     "data": {
      "text/plain": [
       "1.915736124302923"
      ]
     },
     "execution_count": 16,
     "metadata": {},
     "output_type": "execute_result"
    }
   ],
   "source": [
    "state['Murder.Rate'].std()"
   ]
  },
  {
   "cell_type": "markdown",
   "metadata": {},
   "source": [
    "Der Interquartilabstand IQA (bzw. IQR) wird als Differenz zwischen den 75% und 25% Quantil berechnet. Das Ergebnis beschreibt die Breite des Korridors, in dem die mittleren 50% der Stichprobe liegen.  "
   ]
  },
  {
   "cell_type": "code",
   "execution_count": 17,
   "metadata": {
    "execution": {
     "iopub.execute_input": "2021-09-02T14:39:52.221905Z",
     "iopub.status.busy": "2021-09-02T14:39:52.221420Z",
     "iopub.status.idle": "2021-09-02T14:39:52.224349Z",
     "shell.execute_reply": "2021-09-02T14:39:52.223782Z"
    }
   },
   "outputs": [
    {
     "data": {
      "text/plain": [
       "4847308.0"
      ]
     },
     "execution_count": 17,
     "metadata": {},
     "output_type": "execute_result"
    }
   ],
   "source": [
    "state['Population'].quantile(0.75) - state['Population'].quantile(0.25)"
   ]
  },
  {
   "cell_type": "markdown",
   "metadata": {},
   "source": [
    "Eine weitere Methode ist die Berechnung der mittleren absoluten Abweichung vom Median (auch MAD = median absolute deviation). Dazu können wir eine Funktion des _statsmodels_ pakets benutzen."
   ]
  },
  {
   "cell_type": "code",
   "execution_count": 18,
   "metadata": {
    "execution": {
     "iopub.execute_input": "2021-09-02T14:39:52.230132Z",
     "iopub.status.busy": "2021-09-02T14:39:52.229597Z",
     "iopub.status.idle": "2021-09-02T14:39:52.233652Z",
     "shell.execute_reply": "2021-09-02T14:39:52.231949Z"
    }
   },
   "outputs": [
    {
     "data": {
      "text/plain": [
       "3849876.1459979336"
      ]
     },
     "execution_count": 18,
     "metadata": {},
     "output_type": "execute_result"
    }
   ],
   "source": [
    "robust.scale.mad(state['Population'])\n",
    "abs(state['Population'] - state['Population'].median()).median() / 0.6744897501960817"
   ]
  },
  {
   "cell_type": "code",
   "execution_count": 19,
   "metadata": {
    "execution": {
     "iopub.execute_input": "2021-09-02T14:39:52.230132Z",
     "iopub.status.busy": "2021-09-02T14:39:52.229597Z",
     "iopub.status.idle": "2021-09-02T14:39:52.233652Z",
     "shell.execute_reply": "2021-09-02T14:39:52.231949Z"
    }
   },
   "outputs": [
    {
     "data": {
      "text/plain": [
       "2.3721635496089624"
      ]
     },
     "execution_count": 19,
     "metadata": {},
     "output_type": "execute_result"
    }
   ],
   "source": [
    "robust.scale.mad(state['Murder.Rate'])\n",
    "abs(state['Murder.Rate'] - state['Murder.Rate'].median()).median() / 0.6744897501960817"
   ]
  },
  {
   "cell_type": "markdown",
   "metadata": {},
   "source": [
    "## Perzentile and Boxplots\n",
    "_Pandas_ bietet die Methode `quantile` für DataFrames an. Damit können flexibel verschiedenste Quantile ermittelt werden."
   ]
  },
  {
   "cell_type": "code",
   "execution_count": 20,
   "metadata": {
    "execution": {
     "iopub.execute_input": "2021-09-02T14:39:52.239655Z",
     "iopub.status.busy": "2021-09-02T14:39:52.239163Z",
     "iopub.status.idle": "2021-09-02T14:39:52.241598Z",
     "shell.execute_reply": "2021-09-02T14:39:52.241972Z"
    }
   },
   "outputs": [
    {
     "data": {
      "text/plain": [
       "0.05    1.600\n",
       "0.25    2.425\n",
       "0.50    4.000\n",
       "0.75    5.550\n",
       "0.95    6.510\n",
       "Name: Murder.Rate, dtype: float64"
      ]
     },
     "execution_count": 20,
     "metadata": {},
     "output_type": "execute_result"
    }
   ],
   "source": [
    "state['Murder.Rate'].quantile([0.05, 0.25, 0.5, 0.75, 0.95])"
   ]
  },
  {
   "cell_type": "code",
   "execution_count": 21,
   "metadata": {
    "execution": {
     "iopub.execute_input": "2021-09-02T14:39:52.250093Z",
     "iopub.status.busy": "2021-09-02T14:39:52.249528Z",
     "iopub.status.idle": "2021-09-02T14:39:52.252455Z",
     "shell.execute_reply": "2021-09-02T14:39:52.251870Z"
    }
   },
   "outputs": [
    {
     "data": {
      "text/html": [
       "<div>\n",
       "<style scoped>\n",
       "    .dataframe tbody tr th:only-of-type {\n",
       "        vertical-align: middle;\n",
       "    }\n",
       "\n",
       "    .dataframe tbody tr th {\n",
       "        vertical-align: top;\n",
       "    }\n",
       "\n",
       "    .dataframe thead th {\n",
       "        text-align: right;\n",
       "    }\n",
       "</style>\n",
       "<table border=\"1\" class=\"dataframe\">\n",
       "  <thead>\n",
       "    <tr style=\"text-align: right;\">\n",
       "      <th></th>\n",
       "      <th>5.0%</th>\n",
       "      <th>25.0%</th>\n",
       "      <th>50.0%</th>\n",
       "      <th>75.0%</th>\n",
       "      <th>95.0%</th>\n",
       "    </tr>\n",
       "  </thead>\n",
       "  <tbody>\n",
       "    <tr>\n",
       "      <th>Murder.Rate</th>\n",
       "      <td>1.6</td>\n",
       "      <td>2.425</td>\n",
       "      <td>4.0</td>\n",
       "      <td>5.55</td>\n",
       "      <td>6.51</td>\n",
       "    </tr>\n",
       "  </tbody>\n",
       "</table>\n",
       "</div>"
      ],
      "text/plain": [
       "             5.0%  25.0%  50.0%  75.0%  95.0%\n",
       "Murder.Rate   1.6  2.425    4.0   5.55   6.51"
      ]
     },
     "execution_count": 21,
     "metadata": {},
     "output_type": "execute_result"
    }
   ],
   "source": [
    "\n",
    "percentages = [0.05, 0.25, 0.5, 0.75, 0.95]\n",
    "df = pd.DataFrame(state['Murder.Rate'].quantile(percentages))\n",
    "df.index = [f'{p * 100}%' for p in percentages]\n",
    "df.transpose()"
   ]
  },
  {
   "cell_type": "markdown",
   "metadata": {},
   "source": [
    "_Pandas_ bietet ein Auswahl an Visualisierungen für die explorative Analyse, z.B. Boxplots.\n",
    "\n",
    "Ein Boxplot hat eine Box, die sich vom 25% bis zum 75 % Quantil erstreckt. \n",
    "\n",
    "Die Enden (auch Antennen oder Whisker gennant) ober- und unterhalb der Box repräsentieren das Maximum und das Minimum der Stichprobe, der Strich in der Mitte der Box zeigt den Median.\n",
    "\n",
    "Werte die mehr als das 1,5-fache des IQA von der Box abweichen werden als Ausreißer mit Kreisen gekennzeichnet. D.h. der letzte Wert der Whisker ist der, der noch kleiner als 1,5 * IQA ist.\n",
    "\n",
    "Werte die mehr als das 3-fache des IQA betragen werden als Extremwerte bezeichnet und i.d.R. mit \"x\" gekennzeichnet. Beim Standard Boxplot von _pandas_ ist dies jedoch nicht vorgesehen."
   ]
  },
  {
   "cell_type": "code",
   "execution_count": 22,
   "metadata": {
    "execution": {
     "iopub.execute_input": "2021-09-02T14:39:52.256621Z",
     "iopub.status.busy": "2021-09-02T14:39:52.256123Z",
     "iopub.status.idle": "2021-09-02T14:39:52.445012Z",
     "shell.execute_reply": "2021-09-02T14:39:52.444626Z"
    }
   },
   "outputs": [
    {
     "data": {
      "image/png": "[encoded data removed]",
      "text/plain": [
       "<Figure size 504x576 with 1 Axes>"
      ]
     },
     "metadata": {
      "needs_background": "light"
     },
     "output_type": "display_data"
    }
   ],
   "source": [
    "ax = (state['Population']/1_000_000).plot.box(figsize=(7, 8))\n",
    "ax.set_ylabel('Population (millions)')\n",
    "\n",
    "plt.tight_layout()\n",
    "plt.show()"
   ]
  },
  {
   "cell_type": "markdown",
   "metadata": {},
   "source": [
    "## Häufigkeitsverteilungen und Histogramme\n",
    "Die Methode `cut` in _pandas_ teilt Daten in Klassen(=\"Töpfe\") auf. \n",
    "\n",
    "Der folgende Code erzeugt 10 gleich große Klassen aus den Bevölkerungsdaten der Staaten. Die Methode `value_counts` zeigt die Häufigkeiten für die einzelnen Klassen."
   ]
  },
  {
   "cell_type": "code",
   "execution_count": 23,
   "metadata": {
    "execution": {
     "iopub.execute_input": "2021-09-02T14:39:52.454923Z",
     "iopub.status.busy": "2021-09-02T14:39:52.448690Z",
     "iopub.status.idle": "2021-09-02T14:39:52.458432Z",
     "shell.execute_reply": "2021-09-02T14:39:52.459024Z"
    }
   },
   "outputs": [],
   "source": [
    "binnedPopulation = pd.cut(state['Population'], 10)"
   ]
  },
  {
   "cell_type": "code",
   "execution_count": 24,
   "metadata": {},
   "outputs": [
    {
     "data": {
      "text/plain": [
       "0       (4232659.0, 7901692.0]\n",
       "1       (526935.67, 4232659.0]\n",
       "2       (4232659.0, 7901692.0]\n",
       "3       (526935.67, 4232659.0]\n",
       "4     (33584923.0, 37253956.0]\n",
       "5       (4232659.0, 7901692.0]\n",
       "6       (526935.67, 4232659.0]\n",
       "7       (526935.67, 4232659.0]\n",
       "8     (15239758.0, 18908791.0]\n",
       "9      (7901692.0, 11570725.0]\n",
       "10      (526935.67, 4232659.0]\n",
       "11      (526935.67, 4232659.0]\n",
       "12    (11570725.0, 15239758.0]\n",
       "13      (4232659.0, 7901692.0]\n",
       "14      (526935.67, 4232659.0]\n",
       "15      (526935.67, 4232659.0]\n",
       "16      (4232659.0, 7901692.0]\n",
       "17      (4232659.0, 7901692.0]\n",
       "18      (526935.67, 4232659.0]\n",
       "19      (4232659.0, 7901692.0]\n",
       "20      (4232659.0, 7901692.0]\n",
       "21     (7901692.0, 11570725.0]\n",
       "22      (4232659.0, 7901692.0]\n",
       "23      (526935.67, 4232659.0]\n",
       "24      (4232659.0, 7901692.0]\n",
       "25      (526935.67, 4232659.0]\n",
       "26      (526935.67, 4232659.0]\n",
       "27      (526935.67, 4232659.0]\n",
       "28      (526935.67, 4232659.0]\n",
       "29     (7901692.0, 11570725.0]\n",
       "30      (526935.67, 4232659.0]\n",
       "31    (18908791.0, 22577824.0]\n",
       "32     (7901692.0, 11570725.0]\n",
       "33      (526935.67, 4232659.0]\n",
       "34     (7901692.0, 11570725.0]\n",
       "35      (526935.67, 4232659.0]\n",
       "36      (526935.67, 4232659.0]\n",
       "37    (11570725.0, 15239758.0]\n",
       "38      (526935.67, 4232659.0]\n",
       "39      (4232659.0, 7901692.0]\n",
       "40      (526935.67, 4232659.0]\n",
       "41      (4232659.0, 7901692.0]\n",
       "42    (22577824.0, 26246857.0]\n",
       "43      (526935.67, 4232659.0]\n",
       "44      (526935.67, 4232659.0]\n",
       "45     (7901692.0, 11570725.0]\n",
       "46      (4232659.0, 7901692.0]\n",
       "47      (526935.67, 4232659.0]\n",
       "48      (4232659.0, 7901692.0]\n",
       "49      (526935.67, 4232659.0]\n",
       "Name: Population, dtype: category\n",
       "Categories (10, interval[float64, right]): [(526935.67, 4232659.0] < (4232659.0, 7901692.0] < (7901692.0, 11570725.0] < (11570725.0, 15239758.0] ... (22577824.0, 26246857.0] < (26246857.0, 29915890.0] < (29915890.0, 33584923.0] < (33584923.0, 37253956.0]]"
      ]
     },
     "execution_count": 24,
     "metadata": {},
     "output_type": "execute_result"
    }
   ],
   "source": [
    "binnedPopulation"
   ]
  },
  {
   "cell_type": "code",
   "execution_count": 25,
   "metadata": {
    "execution": {
     "iopub.execute_input": "2021-09-02T14:39:52.454923Z",
     "iopub.status.busy": "2021-09-02T14:39:52.448690Z",
     "iopub.status.idle": "2021-09-02T14:39:52.458432Z",
     "shell.execute_reply": "2021-09-02T14:39:52.459024Z"
    }
   },
   "outputs": [
    {
     "data": {
      "text/plain": [
       "(526935.67, 4232659.0]      24\n",
       "(4232659.0, 7901692.0]      14\n",
       "(7901692.0, 11570725.0]      6\n",
       "(11570725.0, 15239758.0]     2\n",
       "(15239758.0, 18908791.0]     1\n",
       "(18908791.0, 22577824.0]     1\n",
       "(22577824.0, 26246857.0]     1\n",
       "(33584923.0, 37253956.0]     1\n",
       "(26246857.0, 29915890.0]     0\n",
       "(29915890.0, 33584923.0]     0\n",
       "Name: Population, dtype: int64"
      ]
     },
     "execution_count": 25,
     "metadata": {},
     "output_type": "execute_result"
    }
   ],
   "source": [
    "\n",
    "binnedPopulation.value_counts()"
   ]
  },
  {
   "cell_type": "markdown",
   "metadata": {},
   "source": [
    "Eine etwas komplexe aber gut funktionierende Methode, diese Häufigkeitsverteilung mit den ursprünglichen Daten aus dem state DataFrame zu verknüpfen sehen Sie unten. Zuerst wird die Series binnedPopulation mit dem bisherigen DataFrame state per `concat()` verknüpft. "
   ]
  },
  {
   "cell_type": "code",
   "execution_count": 26,
   "metadata": {},
   "outputs": [],
   "source": [
    "binnedPopulation.name = 'binnedPopulation'\n",
    "df = pd.concat([state, binnedPopulation], axis=1)\n",
    "df = df.sort_values(by='Population')"
   ]
  },
  {
   "cell_type": "markdown",
   "metadata": {},
   "source": [
    "Anschließend wird über das Ergebnis (also die Gruppen) eines `groupby()`iteriert, um die einzelnen Abkürzungen der Staaten in der Spalte \"States\" zusammenzuführen. In \"BinRange\" sind die Gruppenbezeichner, in \"Count\" die Anzahl der Staaten in jeder Gruppe bzw. Klasse dargestellt."
   ]
  },
  {
   "cell_type": "code",
   "execution_count": 27,
   "metadata": {
    "execution": {
     "iopub.execute_input": "2021-09-02T14:39:52.471616Z",
     "iopub.status.busy": "2021-09-02T14:39:52.461422Z",
     "iopub.status.idle": "2021-09-02T14:39:52.476473Z",
     "shell.execute_reply": "2021-09-02T14:39:52.475542Z"
    }
   },
   "outputs": [
    {
     "data": {
      "text/html": [
       "<div>\n",
       "<style scoped>\n",
       "    .dataframe tbody tr th:only-of-type {\n",
       "        vertical-align: middle;\n",
       "    }\n",
       "\n",
       "    .dataframe tbody tr th {\n",
       "        vertical-align: top;\n",
       "    }\n",
       "\n",
       "    .dataframe thead th {\n",
       "        text-align: right;\n",
       "    }\n",
       "</style>\n",
       "<table border=\"1\" class=\"dataframe\">\n",
       "  <thead>\n",
       "    <tr style=\"text-align: right;\">\n",
       "      <th></th>\n",
       "      <th>BinRange</th>\n",
       "      <th>Count</th>\n",
       "      <th>States</th>\n",
       "    </tr>\n",
       "  </thead>\n",
       "  <tbody>\n",
       "    <tr>\n",
       "      <th>0</th>\n",
       "      <td>(526935.67, 4232659.0]</td>\n",
       "      <td>24</td>\n",
       "      <td>WY,VT,ND,AK,SD,DE,MT,RI,NH,ME,HI,ID,NE,WV,NM,N...</td>\n",
       "    </tr>\n",
       "    <tr>\n",
       "      <th>1</th>\n",
       "      <td>(4232659.0, 7901692.0]</td>\n",
       "      <td>14</td>\n",
       "      <td>KY,LA,SC,AL,CO,MN,WI,MD,MO,TN,AZ,IN,MA,WA</td>\n",
       "    </tr>\n",
       "    <tr>\n",
       "      <th>2</th>\n",
       "      <td>(7901692.0, 11570725.0]</td>\n",
       "      <td>6</td>\n",
       "      <td>VA,NJ,NC,GA,MI,OH</td>\n",
       "    </tr>\n",
       "    <tr>\n",
       "      <th>3</th>\n",
       "      <td>(11570725.0, 15239758.0]</td>\n",
       "      <td>2</td>\n",
       "      <td>PA,IL</td>\n",
       "    </tr>\n",
       "    <tr>\n",
       "      <th>4</th>\n",
       "      <td>(15239758.0, 18908791.0]</td>\n",
       "      <td>1</td>\n",
       "      <td>FL</td>\n",
       "    </tr>\n",
       "    <tr>\n",
       "      <th>5</th>\n",
       "      <td>(18908791.0, 22577824.0]</td>\n",
       "      <td>1</td>\n",
       "      <td>NY</td>\n",
       "    </tr>\n",
       "    <tr>\n",
       "      <th>6</th>\n",
       "      <td>(22577824.0, 26246857.0]</td>\n",
       "      <td>1</td>\n",
       "      <td>TX</td>\n",
       "    </tr>\n",
       "    <tr>\n",
       "      <th>7</th>\n",
       "      <td>(26246857.0, 29915890.0]</td>\n",
       "      <td>0</td>\n",
       "      <td></td>\n",
       "    </tr>\n",
       "    <tr>\n",
       "      <th>8</th>\n",
       "      <td>(29915890.0, 33584923.0]</td>\n",
       "      <td>0</td>\n",
       "      <td></td>\n",
       "    </tr>\n",
       "    <tr>\n",
       "      <th>9</th>\n",
       "      <td>(33584923.0, 37253956.0]</td>\n",
       "      <td>1</td>\n",
       "      <td>CA</td>\n",
       "    </tr>\n",
       "  </tbody>\n",
       "</table>\n",
       "</div>"
      ],
      "text/plain": [
       "                   BinRange  Count  \\\n",
       "0    (526935.67, 4232659.0]     24   \n",
       "1    (4232659.0, 7901692.0]     14   \n",
       "2   (7901692.0, 11570725.0]      6   \n",
       "3  (11570725.0, 15239758.0]      2   \n",
       "4  (15239758.0, 18908791.0]      1   \n",
       "5  (18908791.0, 22577824.0]      1   \n",
       "6  (22577824.0, 26246857.0]      1   \n",
       "7  (26246857.0, 29915890.0]      0   \n",
       "8  (29915890.0, 33584923.0]      0   \n",
       "9  (33584923.0, 37253956.0]      1   \n",
       "\n",
       "                                              States  \n",
       "0  WY,VT,ND,AK,SD,DE,MT,RI,NH,ME,HI,ID,NE,WV,NM,N...  \n",
       "1          KY,LA,SC,AL,CO,MN,WI,MD,MO,TN,AZ,IN,MA,WA  \n",
       "2                                  VA,NJ,NC,GA,MI,OH  \n",
       "3                                              PA,IL  \n",
       "4                                                 FL  \n",
       "5                                                 NY  \n",
       "6                                                 TX  \n",
       "7                                                     \n",
       "8                                                     \n",
       "9                                                 CA  "
      ]
     },
     "execution_count": 27,
     "metadata": {},
     "output_type": "execute_result"
    }
   ],
   "source": [
    "groups = []\n",
    "for group, subset in df.groupby(by='binnedPopulation'):\n",
    "    groups.append({\n",
    "        'BinRange': group,\n",
    "        'Count': len(subset),\n",
    "        'States': ','.join(subset.Abbreviation)\n",
    "    })\n",
    "pd.DataFrame(groups)"
   ]
  },
  {
   "cell_type": "markdown",
   "metadata": {},
   "source": [
    "_Pandas_ unterstützt auch die schnelle Erzeugung von Histogrammen. So kann schnell eine Häufigkeitsverteilung in einer Stichprobe sichtbargemacht werden. Per Standard werden zehn KLassen gebildet, dies lässt sich aber über die Parameter von `hist()` steuern."
   ]
  },
  {
   "cell_type": "code",
   "execution_count": 28,
   "metadata": {
    "execution": {
     "iopub.execute_input": "2021-09-02T14:39:52.497306Z",
     "iopub.status.busy": "2021-09-02T14:39:52.479878Z",
     "iopub.status.idle": "2021-09-02T14:39:52.607405Z",
     "shell.execute_reply": "2021-09-02T14:39:52.607922Z"
    }
   },
   "outputs": [
    {
     "data": {
      "image/png": "[encoded data removed]",
      "text/plain": [
       "<Figure size 576x576 with 1 Axes>"
      ]
     },
     "metadata": {
      "needs_background": "light"
     },
     "output_type": "display_data"
    }
   ],
   "source": [
    "ax = (state['Population'] / 1_000_000).plot.hist(figsize=(8, 8))\n",
    "ax.set_xlabel('Population (millions)')\n",
    "\n",
    "plt.tight_layout()\n",
    "plt.show()"
   ]
  },
  {
   "cell_type": "markdown",
   "metadata": {},
   "source": [
    "## Dichteschätzer\n",
    "Der Einsatz eines (Kern-)dichteschätzers ermöglicht eine genauere weil stetige Einschätzung der Verteilung der der Daten. Der Parameter `bw_method` steuert die Glättung der Kurve.\n",
    "Siehe auch: https://pandas.pydata.org/docs/reference/api/pandas.DataFrame.plot.density.html"
   ]
  },
  {
   "cell_type": "code",
   "execution_count": 47,
   "metadata": {
    "execution": {
     "iopub.execute_input": "2021-09-02T14:39:52.663454Z",
     "iopub.status.busy": "2021-09-02T14:39:52.653982Z",
     "iopub.status.idle": "2021-09-02T14:39:52.771907Z",
     "shell.execute_reply": "2021-09-02T14:39:52.771578Z"
    }
   },
   "outputs": [
    {
     "data": {
      "image/png": "[encoded data removed]",
      "text/plain": [
       "<Figure size 432x288 with 1 Axes>"
      ]
     },
     "metadata": {
      "needs_background": "light"
     },
     "output_type": "display_data"
    }
   ],
   "source": [
    "state['Murder.Rate'].plot.density(bw_method=0.3)\n",
    "\n",
    "# Beispiel mit starker Glättung\n",
    "#state['Murder.Rate'].plot.density(ax=ax,  bw_method=1)\n",
    "\n",
    "plt.tight_layout()\n",
    "plt.show()"
   ]
  },
  {
   "cell_type": "markdown",
   "metadata": {},
   "source": [
    "Wenn Dichteschätzer und Histogramm auf einer Visualisierung zusammen angezeigt werden sollen, so wird der Plot erst in einer Variablle gesichert (hier ax) und später kombiniert."
   ]
  },
  {
   "cell_type": "code",
   "execution_count": 49,
   "metadata": {},
   "outputs": [
    {
     "data": {
      "image/png": "[encoded data removed]",
      "text/plain": [
       "<Figure size 576x576 with 1 Axes>"
      ]
     },
     "metadata": {
      "needs_background": "light"
     },
     "output_type": "display_data"
    }
   ],
   "source": [
    "ax = state['Murder.Rate'].plot.hist(density=True, xlim=[0, 12], \n",
    "                                    bins=range(1,12), figsize=(8, 8))\n",
    "state['Murder.Rate'].plot.density(ax=ax,  bw_method=0.3)\n",
    "\n",
    "ax.set_xlabel('Murder Rate (per 100,000)')\n",
    "\n",
    "plt.tight_layout()\n",
    "plt.show()\n"
   ]
  }
 ],
 "metadata": {
  "kernelspec": {
   "display_name": "Python 3.7.11 ('base')",
   "language": "python",
   "name": "python3"
  },
  "language_info": {
   "codemirror_mode": {
    "name": "ipython",
    "version": 3
   },
   "file_extension": ".py",
   "mimetype": "text/x-python",
   "name": "python",
   "nbconvert_exporter": "python",
   "pygments_lexer": "ipython3",
   "version": "3.7.11"
  },
  "vscode": {
   "interpreter": {
    "hash": "ad2bdc8ecc057115af97d19610ffacc2b4e99fae6737bb82f5d7fb13d2f2c186"
   }
  }
 },
 "nbformat": 4,
 "nbformat_minor": 2
}
